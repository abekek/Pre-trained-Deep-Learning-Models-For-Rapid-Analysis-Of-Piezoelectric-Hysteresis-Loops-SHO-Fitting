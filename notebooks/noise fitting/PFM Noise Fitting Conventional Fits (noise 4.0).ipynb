{
 "cells": [
  {
   "cell_type": "code",
   "execution_count": 1,
   "id": "84468450",
   "metadata": {},
   "outputs": [],
   "source": [
    "# Checks if the directory exists\n",
    "import os\n",
    "if os.path.exists(\"./Rapid-Fitting-of-BEPFM-and-Hysteresis-Loops-Using-Physics-Constrained-Unsupervised-Neural-Networks\"):\n",
    "    pass\n",
    "else:\n",
    "    !git clone https://github.com/abekek/Rapid-Fitting-of-BEPFM-and-Hysteresis-Loops-Using-Physics-Constrained-Unsupervised-Neural-Networks.git"
   ]
  },
  {
   "cell_type": "code",
   "execution_count": 2,
   "id": "46715cf8",
   "metadata": {},
   "outputs": [
    {
     "name": "stdout",
     "output_type": "stream",
     "text": [
      "/scratch/alibek_2/Rapid-Fitting-of-BEPFM-and-Hysteresis-Loops-Using-Physics-Constrained-Unsupervised-Neural-Networks\n"
     ]
    }
   ],
   "source": [
    "# moves to the right directory\n",
    "%cd Rapid-Fitting-of-BEPFM-and-Hysteresis-Loops-Using-Physics-Constrained-Unsupervised-Neural-Networks"
   ]
  },
  {
   "cell_type": "code",
   "execution_count": 3,
   "id": "c3c1a5dc",
   "metadata": {},
   "outputs": [],
   "source": [
    "import os\n",
    "os.environ['CUDA_VISIBLE_DEVICES'] = '0'"
   ]
  },
  {
   "cell_type": "code",
   "execution_count": 4,
   "id": "d49a1004",
   "metadata": {
    "scrolled": true
   },
   "outputs": [
    {
     "name": "stdout",
     "output_type": "stream",
     "text": [
      "Collecting pycroscopy==0.60.7\n",
      "  Using cached https://files.pythonhosted.org/packages/7a/cd/52861a55bff7f7f8582a1c4df1df8f4dfa3bb828011f55da82d201215030/pycroscopy-0.60.7-py2.py3-none-any.whl\n",
      "Collecting pillow (from pycroscopy==0.60.7)\n",
      "  Using cached https://files.pythonhosted.org/packages/7d/2a/2fc11b54e2742db06297f7fa7f420a0e3069fdcf0e4b57dfec33f0b08622/Pillow-8.4.0.tar.gz\n",
      "Requirement already satisfied: psutil in /usr/lib64/python3.6/site-packages (from pycroscopy==0.60.7)\n",
      "Collecting numpy-groupies==0.9.7 (from pycroscopy==0.60.7)\n",
      "  Using cached https://files.pythonhosted.org/packages/4c/18/e5c4c6d12ef8740106d29ea78bad2c1d218e61caa735513d3491a3a1d837/numpy_groupies-0.9.7.tar.gz\n",
      "Collecting matplotlib>=2.0.0 (from pycroscopy==0.60.7)\n",
      "  Using cached https://files.pythonhosted.org/packages/09/03/b7b30fa81cb687d1178e085d0f01111ceaea3bf81f9330c937fb6f6c8ca0/matplotlib-3.3.4-cp36-cp36m-manylinux1_x86_64.whl\n",
      "Requirement already satisfied: six in /usr/lib/python3.6/site-packages (from pycroscopy==0.60.7)\n",
      "Collecting ipywidgets>=5.2.2 (from pycroscopy==0.60.7)\n",
      "  Using cached https://files.pythonhosted.org/packages/86/7d/06b48ec5fd605775c7e85b3ea397d8f0294f66d570bcee59496eb5195fc5/ipywidgets-7.7.0-py2.py3-none-any.whl\n",
      "Collecting ipython>=6.0; python_version >= \"3.3\" (from pycroscopy==0.60.7)\n",
      "  Using cached https://files.pythonhosted.org/packages/53/09/958a4802489d28b2484114ee6414c7502ef57de6f2dbc9095b718640060c/ipython-7.16.3-py3-none-any.whl\n",
      "Collecting scikit-learn>=0.17.1 (from pycroscopy==0.60.7)\n",
      "  Using cached https://files.pythonhosted.org/packages/f5/ef/bcd79e8d59250d6e8478eb1290dc6e05be42b3be8a86e3954146adbc171a/scikit_learn-0.24.2-cp36-cp36m-manylinux1_x86_64.whl\n",
      "Collecting xlrd>=1.0.0 (from pycroscopy==0.60.7)\n",
      "  Using cached https://files.pythonhosted.org/packages/a6/0c/c2a72d51fe56e08a08acc85d13013558a2d793028ae7385448a6ccdfae64/xlrd-2.0.1-py2.py3-none-any.whl\n",
      "Collecting pyUSID>=0.0.8 (from pycroscopy==0.60.7)\n",
      "  Using cached https://files.pythonhosted.org/packages/03/11/828e19e5218b4c384c19e2e3bac7c18842f42374d89403c9de527f200600/pyUSID-0.0.10-py2.py3-none-any.whl\n",
      "Collecting h5py>=2.6.0 (from pycroscopy==0.60.7)\n",
      "  Using cached https://files.pythonhosted.org/packages/70/7a/e53e500335afb6b1aade11227cdf107fca54106a1dca5c9d13242a043f3b/h5py-3.1.0-cp36-cp36m-manylinux1_x86_64.whl\n",
      "Requirement already satisfied: numpy>=1.13.0 in /usr/lib64/python3.6/site-packages (from pycroscopy==0.60.7)\n",
      "Collecting scikit-image>=0.12.3 (from pycroscopy==0.60.7)\n",
      "  Using cached https://files.pythonhosted.org/packages/0e/ba/53e1bfbdfd0f94514d71502e3acea494a8b4b57c457adbc333ef386485da/scikit_image-0.17.2-cp36-cp36m-manylinux1_x86_64.whl\n",
      "Collecting sidpy>=0.0.1 (from pycroscopy==0.60.7)\n",
      "  Using cached https://files.pythonhosted.org/packages/bb/d0/03017956c637ca036999f374fb86a140e22a159646e3db2e2368b43fcdc2/sidpy-0.0.9-py2.py3-none-any.whl\n",
      "Requirement already satisfied: scipy>=0.17.1 in /usr/lib64/python3.6/site-packages (from pycroscopy==0.60.7)\n",
      "Collecting igor (from pycroscopy==0.60.7)\n",
      "  Using cached https://files.pythonhosted.org/packages/be/f2/ad4b0027e58c78958b40d9da54e5674a9e851207a9b61e5edd4112f154ec/igor-0.3.tar.gz\n",
      "Collecting joblib>=0.11.0 (from pycroscopy==0.60.7)\n",
      "  Using cached https://files.pythonhosted.org/packages/3e/d5/0163eb0cfa0b673aa4fe1cd3ea9d8a81ea0f32e50807b0c295871e4aab2e/joblib-1.1.0-py2.py3-none-any.whl\n",
      "Collecting gwyfile (from pycroscopy==0.60.7)\n",
      "  Using cached https://files.pythonhosted.org/packages/28/a8/7e1f5105cbf8200705f130545c9ad54592c52c34717609f87570e5a5e2af/gwyfile-0.2.0-py2.py3-none-any.whl\n",
      "Requirement already satisfied: pyparsing!=2.0.4,!=2.1.2,!=2.1.6,>=2.0.3 in /usr/lib/python3.6/site-packages (from matplotlib>=2.0.0->pycroscopy==0.60.7)\n",
      "Collecting kiwisolver>=1.0.1 (from matplotlib>=2.0.0->pycroscopy==0.60.7)\n",
      "  Using cached https://files.pythonhosted.org/packages/a7/1b/cbd8ae738719b5f41592a12057ef5442e2ed5f5cb5451f8fc7e9f8875a1a/kiwisolver-1.3.1-cp36-cp36m-manylinux1_x86_64.whl\n",
      "Collecting cycler>=0.10 (from matplotlib>=2.0.0->pycroscopy==0.60.7)\n",
      "  Using cached https://files.pythonhosted.org/packages/5c/f9/695d6bedebd747e5eb0fe8fad57b72fdf25411273a39791cde838d5a8f51/cycler-0.11.0-py3-none-any.whl\n",
      "Requirement already satisfied: python-dateutil>=2.1 in /usr/lib/python3.6/site-packages (from matplotlib>=2.0.0->pycroscopy==0.60.7)\n",
      "Collecting ipython-genutils~=0.2.0 (from ipywidgets>=5.2.2->pycroscopy==0.60.7)\n",
      "  Using cached https://files.pythonhosted.org/packages/fa/bc/9bd3b5c2b4774d5f33b2d544f1460be9df7df2fe42f352135381c347c69a/ipython_genutils-0.2.0-py2.py3-none-any.whl\n",
      "Collecting nbformat>=4.2.0 (from ipywidgets>=5.2.2->pycroscopy==0.60.7)\n",
      "  Using cached https://files.pythonhosted.org/packages/e7/c7/dd50978c637a7af8234909277c4e7ec1b71310c13fb3135f3c8f5b6e045f/nbformat-5.1.3-py3-none-any.whl\n",
      "Collecting widgetsnbextension~=3.6.0 (from ipywidgets>=5.2.2->pycroscopy==0.60.7)\n",
      "  Using cached https://files.pythonhosted.org/packages/4e/69/273f584c28805939c6cb45717638cb8edbd78147f02c564b8c7763e1872e/widgetsnbextension-3.6.0-py2.py3-none-any.whl\n",
      "Collecting ipykernel>=4.5.1 (from ipywidgets>=5.2.2->pycroscopy==0.60.7)\n",
      "  Using cached https://files.pythonhosted.org/packages/e9/ad/9101e0ab5e84dd117462bb3a1379d31728a849b6886458452e3d97dc6bba/ipykernel-5.5.6-py3-none-any.whl\n",
      "Collecting traitlets>=4.3.1 (from ipywidgets>=5.2.2->pycroscopy==0.60.7)\n",
      "  Using cached https://files.pythonhosted.org/packages/ca/ab/872a23e29cec3cf2594af7e857f18b687ad21039c1f9b922fac5b9b142d5/traitlets-4.3.3-py2.py3-none-any.whl\n",
      "Collecting jupyterlab-widgets>=1.0.0; python_version >= \"3.6\" (from ipywidgets>=5.2.2->pycroscopy==0.60.7)\n",
      "  Using cached https://files.pythonhosted.org/packages/5f/2c/7331aa9c5041e8b107d712d853268e137f55014b858407816b5487289d11/jupyterlab_widgets-1.1.0-py3-none-any.whl\n",
      "Collecting jedi<=0.17.2,>=0.10 (from ipython>=6.0; python_version >= \"3.3\"->pycroscopy==0.60.7)\n",
      "  Using cached https://files.pythonhosted.org/packages/c3/d4/36136b18daae06ad798966735f6c3fb96869c1be9f8245d2a8f556e40c36/jedi-0.17.2-py2.py3-none-any.whl\n",
      "Requirement already satisfied: setuptools>=18.5 in /usr/lib/python3.6/site-packages (from ipython>=6.0; python_version >= \"3.3\"->pycroscopy==0.60.7)\n",
      "Collecting prompt-toolkit!=3.0.0,!=3.0.1,<3.1.0,>=2.0.0 (from ipython>=6.0; python_version >= \"3.3\"->pycroscopy==0.60.7)\n",
      "  Using cached https://files.pythonhosted.org/packages/3f/2d/dcb44d69f388ca2ee1a4a4d3c204ab66b36975c0d5166781eaeeff76b882/prompt_toolkit-3.0.29-py3-none-any.whl\n",
      "Requirement already satisfied: decorator in /usr/lib/python3.6/site-packages (from ipython>=6.0; python_version >= \"3.3\"->pycroscopy==0.60.7)\n",
      "Collecting pickleshare (from ipython>=6.0; python_version >= \"3.3\"->pycroscopy==0.60.7)\n",
      "  Using cached https://files.pythonhosted.org/packages/9a/41/220f49aaea88bc6fa6cba8d05ecf24676326156c23b991e80b3f2fc24c77/pickleshare-0.7.5-py2.py3-none-any.whl\n",
      "Collecting pexpect; sys_platform != \"win32\" (from ipython>=6.0; python_version >= \"3.3\"->pycroscopy==0.60.7)\n",
      "  Using cached https://files.pythonhosted.org/packages/39/7b/88dbb785881c28a102619d46423cb853b46dbccc70d3ac362d99773a78ce/pexpect-4.8.0-py2.py3-none-any.whl\n",
      "Collecting pygments (from ipython>=6.0; python_version >= \"3.3\"->pycroscopy==0.60.7)\n",
      "  Using cached https://files.pythonhosted.org/packages/5c/8e/1d9017950034297fffa336c72e693a5b51bbf85141b24a763882cf1977b5/Pygments-2.12.0-py3-none-any.whl\n",
      "Collecting backcall (from ipython>=6.0; python_version >= \"3.3\"->pycroscopy==0.60.7)\n",
      "  Using cached https://files.pythonhosted.org/packages/4c/1c/ff6546b6c12603d8dd1070aa3c3d273ad4c07f5771689a7b69a550e8c951/backcall-0.2.0-py2.py3-none-any.whl\n",
      "Collecting threadpoolctl>=2.0.0 (from scikit-learn>=0.17.1->pycroscopy==0.60.7)\n",
      "  Using cached https://files.pythonhosted.org/packages/61/cf/6e354304bcb9c6413c4e02a747b600061c21d38ba51e7e544ac7bc66aecc/threadpoolctl-3.1.0-py3-none-any.whl\n",
      "Collecting cytoolz (from pyUSID>=0.0.8->pycroscopy==0.60.7)\n",
      "  Using cached https://files.pythonhosted.org/packages/b7/a9/9437d8e6a8ba420cb52832a4895614c61bf574bfb3978d5b0806b8ab95be/cytoolz-0.11.2.tar.gz\n",
      "Collecting dask>=0.10 (from pyUSID>=0.0.8->pycroscopy==0.60.7)\n",
      "  Using cached https://files.pythonhosted.org/packages/2e/86/95faa4a9c1f7fbfa2df2ae9e7e1a11349cb97a81e2f38ff9dda301606882/dask-2021.3.0-py3-none-any.whl\n"
     ]
    },
    {
     "name": "stdout",
     "output_type": "stream",
     "text": [
      "Collecting toolz (from pyUSID>=0.0.8->pycroscopy==0.60.7)\n",
      "  Using cached https://files.pythonhosted.org/packages/b5/f1/3df506b493736e3ee11fc1a3c2de8014a55f025d830a71bb499acc049a2c/toolz-0.11.2-py3-none-any.whl\n",
      "Collecting cached-property; python_version < \"3.8\" (from h5py>=2.6.0->pycroscopy==0.60.7)\n",
      "  Using cached https://files.pythonhosted.org/packages/48/19/f2090f7dad41e225c7f2326e4cfe6fff49e57dedb5b53636c9551f86b069/cached_property-1.5.2-py2.py3-none-any.whl\n",
      "Collecting tifffile>=2019.7.26 (from scikit-image>=0.12.3->pycroscopy==0.60.7)\n",
      "  Using cached https://files.pythonhosted.org/packages/42/6b/93a8ee61c6fbe20fa9c17928bd3b80484902b7fd454cecaffba42f5052cb/tifffile-2020.9.3-py3-none-any.whl\n",
      "Collecting networkx>=2.0 (from scikit-image>=0.12.3->pycroscopy==0.60.7)\n",
      "  Using cached https://files.pythonhosted.org/packages/f3/b7/c7f488101c0bb5e4178f3cde416004280fd40262433496830de8a8c21613/networkx-2.5.1-py3-none-any.whl\n",
      "Collecting PyWavelets>=1.1.1 (from scikit-image>=0.12.3->pycroscopy==0.60.7)\n",
      "  Using cached https://files.pythonhosted.org/packages/59/bb/d2b85265ec9fa3c1922210c9393d4cdf7075cc87cce6fe671d7455f80fbc/PyWavelets-1.1.1-cp36-cp36m-manylinux1_x86_64.whl\n",
      "Collecting imageio>=2.3.0 (from scikit-image>=0.12.3->pycroscopy==0.60.7)\n",
      "  Using cached https://files.pythonhosted.org/packages/58/fc/1547b93534279bbf2de88f7c4a88975a65cecafd32c2bd3c518b2054ef76/imageio-2.16.0-py3-none-any.whl\n",
      "Collecting sklearn (from sidpy>=0.0.1->pycroscopy==0.60.7)\n",
      "  Using cached https://files.pythonhosted.org/packages/1e/7a/dbb3be0ce9bd5c8b7e3d87328e79063f8b263b2b1bfa4774cb1147bfcd3f/sklearn-0.0.tar.gz\n",
      "Collecting distributed>=2.0.0psutil (from sidpy>=0.0.1->pycroscopy==0.60.7)\n",
      "  Using cached https://files.pythonhosted.org/packages/96/b7/f58dd1e30f940a8b38de10f5d92b2fce08f38dcba3eb1ddb017260588ed4/distributed-2021.3.0-py3-none-any.whl\n",
      "Collecting ipyfilechooser>=0.0.6 (from sidpy>=0.0.1->pycroscopy==0.60.7)\n",
      "  Using cached https://files.pythonhosted.org/packages/00/60/249e3444fcd9c833704741769981cd02fe2c7ce94126b1394e7a3b26e543/ipyfilechooser-0.6.0-py3-none-any.whl\n",
      "Collecting jupyter-core (from nbformat>=4.2.0->ipywidgets>=5.2.2->pycroscopy==0.60.7)\n",
      "  Using cached https://files.pythonhosted.org/packages/60/7d/bee50351fe3ff6979e949b9c4c00c556a7a9732ba39b547d07d93450de23/jupyter_core-4.9.2-py3-none-any.whl\n",
      "Collecting jsonschema!=2.5.0,>=2.4 (from nbformat>=4.2.0->ipywidgets>=5.2.2->pycroscopy==0.60.7)\n",
      "  Using cached https://files.pythonhosted.org/packages/e0/d9/05587ac378b9fd2c352c6f024f13240168365bd753a7e8007522b7025267/jsonschema-4.0.0-py3-none-any.whl\n",
      "Collecting notebook>=4.4.1 (from widgetsnbextension~=3.6.0->ipywidgets>=5.2.2->pycroscopy==0.60.7)\n",
      "  Using cached https://files.pythonhosted.org/packages/27/b7/7e602dc8b868bba8a542269205237b400be3427d8489b5851de5f7587996/notebook-6.4.10-py3-none-any.whl\n",
      "Collecting jupyter-client (from ipykernel>=4.5.1->ipywidgets>=5.2.2->pycroscopy==0.60.7)\n",
      "  Using cached https://files.pythonhosted.org/packages/56/a7/f4d3790ce7bb925d3ffe299244501a264f23ee7ec401914f7d788881ea31/jupyter_client-7.1.2-py3-none-any.whl\n",
      "Collecting tornado>=4.2 (from ipykernel>=4.5.1->ipywidgets>=5.2.2->pycroscopy==0.60.7)\n",
      "  Using cached https://files.pythonhosted.org/packages/01/d1/8750ad20cbcefb499bb8b405e243f83c2c89f78d139e6f8c8d800640f554/tornado-6.1-cp36-cp36m-manylinux1_x86_64.whl\n",
      "Collecting parso<0.8.0,>=0.7.0 (from jedi<=0.17.2,>=0.10->ipython>=6.0; python_version >= \"3.3\"->pycroscopy==0.60.7)\n",
      "  Using cached https://files.pythonhosted.org/packages/93/d1/e635bdde32890db5aeb2ffbde17e74f68986305a4466b0aa373b861e3f00/parso-0.7.1-py2.py3-none-any.whl\n",
      "Collecting wcwidth (from prompt-toolkit!=3.0.0,!=3.0.1,<3.1.0,>=2.0.0->ipython>=6.0; python_version >= \"3.3\"->pycroscopy==0.60.7)\n",
      "  Using cached https://files.pythonhosted.org/packages/59/7c/e39aca596badaf1b78e8f547c807b04dae603a433d3e7a7e04d67f2ef3e5/wcwidth-0.2.5-py2.py3-none-any.whl\n",
      "Collecting ptyprocess>=0.5 (from pexpect; sys_platform != \"win32\"->ipython>=6.0; python_version >= \"3.3\"->pycroscopy==0.60.7)\n",
      "  Using cached https://files.pythonhosted.org/packages/22/a6/858897256d0deac81a172289110f31629fc4cee19b6f01283303e18c8db3/ptyprocess-0.7.0-py2.py3-none-any.whl\n",
      "Requirement already satisfied: pyyaml in /usr/lib64/python3.6/site-packages (from dask>=0.10->pyUSID>=0.0.8->pycroscopy==0.60.7)\n",
      "Collecting tblib>=1.6.0 (from distributed>=2.0.0psutil->sidpy>=0.0.1->pycroscopy==0.60.7)\n",
      "  Using cached https://files.pythonhosted.org/packages/f8/cd/2fad4add11c8837e72f50a30e2bda30e67a10d70462f826b291443a55c7d/tblib-1.7.0-py2.py3-none-any.whl\n",
      "Collecting sortedcontainers!=2.0.0,!=2.0.1 (from distributed>=2.0.0psutil->sidpy>=0.0.1->pycroscopy==0.60.7)\n",
      "  Using cached https://files.pythonhosted.org/packages/32/46/9cb0e58b2deb7f82b84065f37f3bffeb12413f947f9388e4cac22c4621ce/sortedcontainers-2.4.0-py2.py3-none-any.whl\n",
      "Collecting zict>=0.1.3 (from distributed>=2.0.0psutil->sidpy>=0.0.1->pycroscopy==0.60.7)\n",
      "  Using cached https://files.pythonhosted.org/packages/59/70/d184759f9d67182b048201a4b90bdce5ad44b373613ffbce169135f5d1d5/zict-2.1.0-py3-none-any.whl\n",
      "Collecting click>=6.6 (from distributed>=2.0.0psutil->sidpy>=0.0.1->pycroscopy==0.60.7)\n",
      "  Using cached https://files.pythonhosted.org/packages/4a/a8/0b2ced25639fb20cc1c9784de90a8c25f9504a7f18cd8b5397bd61696d7d/click-8.0.4-py3-none-any.whl\n",
      "Collecting cloudpickle>=1.5.0 (from distributed>=2.0.0psutil->sidpy>=0.0.1->pycroscopy==0.60.7)\n",
      "  Using cached https://files.pythonhosted.org/packages/25/40/2c9db9cfb85a8a21c61528f6660c47662b3e59576efac610d8268d47abba/cloudpickle-2.1.0-py3-none-any.whl\n",
      "Collecting contextvars; python_version < \"3.7\" (from distributed>=2.0.0psutil->sidpy>=0.0.1->pycroscopy==0.60.7)\n",
      "  Using cached https://files.pythonhosted.org/packages/83/96/55b82d9f13763be9d672622e1b8106c85acb83edd7cc2fa5bc67cd9877e9/contextvars-2.4.tar.gz\n",
      "Requirement already satisfied: msgpack>=0.6.0 in /usr/lib64/python3.6/site-packages (from distributed>=2.0.0psutil->sidpy>=0.0.1->pycroscopy==0.60.7)\n",
      "Collecting importlib-metadata; python_version < \"3.8\" (from jsonschema!=2.5.0,>=2.4->nbformat>=4.2.0->ipywidgets>=5.2.2->pycroscopy==0.60.7)\n",
      "  Using cached https://files.pythonhosted.org/packages/a0/a1/b153a0a4caf7a7e3f15c2cd56c7702e2cf3d89b1b359d1f1c5e59d68f4ce/importlib_metadata-4.8.3-py3-none-any.whl\n",
      "Collecting pyrsistent!=0.17.0,!=0.17.1,!=0.17.2,>=0.14.0 (from jsonschema!=2.5.0,>=2.4->nbformat>=4.2.0->ipywidgets>=5.2.2->pycroscopy==0.60.7)\n",
      "  Using cached https://files.pythonhosted.org/packages/6c/19/1af501f6f388a40ede6d0185ba481bdb18ffc99deab0dd0d092b173bc0f4/pyrsistent-0.18.0-cp36-cp36m-manylinux1_x86_64.whl\n",
      "Collecting attrs>=17.4.0 (from jsonschema!=2.5.0,>=2.4->nbformat>=4.2.0->ipywidgets>=5.2.2->pycroscopy==0.60.7)\n",
      "  Using cached https://files.pythonhosted.org/packages/be/be/7abce643bfdf8ca01c48afa2ddf8308c2308b0c3b239a44e57d020afa0ef/attrs-21.4.0-py2.py3-none-any.whl\n",
      "Collecting Send2Trash>=1.8.0 (from notebook>=4.4.1->widgetsnbextension~=3.6.0->ipywidgets>=5.2.2->pycroscopy==0.60.7)\n",
      "  Using cached https://files.pythonhosted.org/packages/47/26/3435896d757335ea53dce5abf8d658ca80757a7a06258451b358f10232be/Send2Trash-1.8.0-py3-none-any.whl\n",
      "Collecting nbconvert>=5 (from notebook>=4.4.1->widgetsnbextension~=3.6.0->ipywidgets>=5.2.2->pycroscopy==0.60.7)\n",
      "  Using cached https://files.pythonhosted.org/packages/13/2f/acbe7006548f3914456ee47f97a2033b1b2f3daf921b12ac94105d87c163/nbconvert-6.0.7-py3-none-any.whl\n",
      "Requirement already satisfied: pyzmq>=17 in /usr/lib64/python3.6/site-packages (from notebook>=4.4.1->widgetsnbextension~=3.6.0->ipywidgets>=5.2.2->pycroscopy==0.60.7)\n",
      "Requirement already satisfied: jinja2 in /usr/lib/python3.6/site-packages (from notebook>=4.4.1->widgetsnbextension~=3.6.0->ipywidgets>=5.2.2->pycroscopy==0.60.7)\n",
      "Collecting nest-asyncio>=1.5 (from notebook>=4.4.1->widgetsnbextension~=3.6.0->ipywidgets>=5.2.2->pycroscopy==0.60.7)\n",
      "  Using cached https://files.pythonhosted.org/packages/be/1e/a83058de46b40a392bdefcaac44d1d42db4bf8562cb68c95d6bae4b93276/nest_asyncio-1.5.5-py3-none-any.whl\n",
      "Collecting prometheus-client (from notebook>=4.4.1->widgetsnbextension~=3.6.0->ipywidgets>=5.2.2->pycroscopy==0.60.7)\n",
      "  Using cached https://files.pythonhosted.org/packages/19/e5/7d4b4b3b0d8d2fdc55395cdb4271c6dbfde3c3ff7d6a6dbe63d19c4e2288/prometheus_client-0.14.1-py3-none-any.whl\n"
     ]
    },
    {
     "name": "stdout",
     "output_type": "stream",
     "text": [
      "Collecting argon2-cffi (from notebook>=4.4.1->widgetsnbextension~=3.6.0->ipywidgets>=5.2.2->pycroscopy==0.60.7)\n",
      "  Using cached https://files.pythonhosted.org/packages/a8/07/946d5a9431bae05a776a59746ec385fbb79b526738d25e4202d3e0bbf7f4/argon2_cffi-21.3.0-py3-none-any.whl\n",
      "Collecting terminado>=0.8.3 (from notebook>=4.4.1->widgetsnbextension~=3.6.0->ipywidgets>=5.2.2->pycroscopy==0.60.7)\n",
      "  Using cached https://files.pythonhosted.org/packages/02/6c/c3b012d026678d5cac6d4e26d6857145e22b94ccef195e7c483c3f6c3731/terminado-0.13.0-py3-none-any.whl\n",
      "Collecting entrypoints (from jupyter-client->ipykernel>=4.5.1->ipywidgets>=5.2.2->pycroscopy==0.60.7)\n",
      "  Using cached https://files.pythonhosted.org/packages/35/a8/365059bbcd4572cbc41de17fd5b682be5868b218c3c5479071865cab9078/entrypoints-0.4-py3-none-any.whl\n",
      "Collecting heapdict (from zict>=0.1.3->distributed>=2.0.0psutil->sidpy>=0.0.1->pycroscopy==0.60.7)\n",
      "  Using cached https://files.pythonhosted.org/packages/b6/9d/cd4777dbcf3bef9d9627e0fe4bc43d2e294b1baeb01d0422399d5e9de319/HeapDict-1.0.1-py3-none-any.whl\n",
      "Collecting immutables>=0.9 (from contextvars; python_version < \"3.7\"->distributed>=2.0.0psutil->sidpy>=0.0.1->pycroscopy==0.60.7)\n",
      "  Using cached https://files.pythonhosted.org/packages/ff/88/9c71337193c3d24c2cf3c14d5ed05eeb502f9f21fa6117edfa9b3b43bff1/immutables-0.18-cp36-cp36m-manylinux_2_5_x86_64.manylinux1_x86_64.manylinux_2_17_x86_64.manylinux2014_x86_64.whl\n",
      "Collecting zipp>=0.5 (from importlib-metadata; python_version < \"3.8\"->jsonschema!=2.5.0,>=2.4->nbformat>=4.2.0->ipywidgets>=5.2.2->pycroscopy==0.60.7)\n",
      "  Using cached https://files.pythonhosted.org/packages/bd/df/d4a4974a3e3957fd1c1fa3082366d7fff6e428ddb55f074bf64876f8e8ad/zipp-3.6.0-py3-none-any.whl\n",
      "Collecting typing-extensions>=3.6.4; python_version < \"3.8\" (from importlib-metadata; python_version < \"3.8\"->jsonschema!=2.5.0,>=2.4->nbformat>=4.2.0->ipywidgets>=5.2.2->pycroscopy==0.60.7)\n",
      "  Using cached https://files.pythonhosted.org/packages/45/6b/44f7f8f1e110027cf88956b59f2fad776cca7e1704396d043f89effd3a0e/typing_extensions-4.1.1-py3-none-any.whl\n",
      "Collecting nbclient<0.6.0,>=0.5.0 (from nbconvert>=5->notebook>=4.4.1->widgetsnbextension~=3.6.0->ipywidgets>=5.2.2->pycroscopy==0.60.7)\n",
      "  Using cached https://files.pythonhosted.org/packages/27/70/69c3561f43ea305da4b360820e67b57244c5308faf1fa890bc444e7cf842/nbclient-0.5.9-py3-none-any.whl\n",
      "Collecting mistune<2,>=0.8.1 (from nbconvert>=5->notebook>=4.4.1->widgetsnbextension~=3.6.0->ipywidgets>=5.2.2->pycroscopy==0.60.7)\n",
      "  Using cached https://files.pythonhosted.org/packages/09/ec/4b43dae793655b7d8a25f76119624350b4d65eb663459eb9603d7f1f0345/mistune-0.8.4-py2.py3-none-any.whl\n",
      "Collecting pandocfilters>=1.4.1 (from nbconvert>=5->notebook>=4.4.1->widgetsnbextension~=3.6.0->ipywidgets>=5.2.2->pycroscopy==0.60.7)\n",
      "  Using cached https://files.pythonhosted.org/packages/5e/a8/878258cffd53202a6cc1903c226cf09e58ae3df6b09f8ddfa98033286637/pandocfilters-1.5.0-py2.py3-none-any.whl\n",
      "Collecting jupyterlab-pygments (from nbconvert>=5->notebook>=4.4.1->widgetsnbextension~=3.6.0->ipywidgets>=5.2.2->pycroscopy==0.60.7)\n",
      "  Using cached https://files.pythonhosted.org/packages/a8/6f/c34288766797193b512c6508f5994b830fb06134fdc4ca8214daba0aa443/jupyterlab_pygments-0.1.2-py2.py3-none-any.whl\n",
      "Collecting testpath (from nbconvert>=5->notebook>=4.4.1->widgetsnbextension~=3.6.0->ipywidgets>=5.2.2->pycroscopy==0.60.7)\n",
      "  Using cached https://files.pythonhosted.org/packages/86/43/1ebfb29c2ca1df2bdb33dbcb2b526b77ee96873ba7b9e25650ddd4ae7156/testpath-0.6.0-py3-none-any.whl\n",
      "Collecting bleach (from nbconvert>=5->notebook>=4.4.1->widgetsnbextension~=3.6.0->ipywidgets>=5.2.2->pycroscopy==0.60.7)\n",
      "  Using cached https://files.pythonhosted.org/packages/64/cc/74d634e1e5659742973a23bb441404c53a7bedb6cd3962109ca5efb703e8/bleach-4.1.0-py2.py3-none-any.whl\n",
      "Collecting defusedxml (from nbconvert>=5->notebook>=4.4.1->widgetsnbextension~=3.6.0->ipywidgets>=5.2.2->pycroscopy==0.60.7)\n",
      "  Using cached https://files.pythonhosted.org/packages/07/6c/aa3f2f849e01cb6a001cd8554a88d4c77c5c1a31c95bdf1cf9301e6d9ef4/defusedxml-0.7.1-py2.py3-none-any.whl\n",
      "Requirement already satisfied: MarkupSafe>=0.23 in /usr/lib64/python3.6/site-packages (from jinja2->notebook>=4.4.1->widgetsnbextension~=3.6.0->ipywidgets>=5.2.2->pycroscopy==0.60.7)\n",
      "Collecting argon2-cffi-bindings (from argon2-cffi->notebook>=4.4.1->widgetsnbextension~=3.6.0->ipywidgets>=5.2.2->pycroscopy==0.60.7)\n",
      "  Using cached https://files.pythonhosted.org/packages/b9/e9/184b8ccce6683b0aa2fbb7ba5683ea4b9c5763f1356347f1312c32e3c66e/argon2-cffi-bindings-21.2.0.tar.gz\n",
      "Collecting dataclasses; python_version < \"3.7\" (from argon2-cffi->notebook>=4.4.1->widgetsnbextension~=3.6.0->ipywidgets>=5.2.2->pycroscopy==0.60.7)\n",
      "  Using cached https://files.pythonhosted.org/packages/fe/ca/75fac5856ab5cfa51bbbcefa250182e50441074fdc3f803f6e76451fab43/dataclasses-0.8-py3-none-any.whl\n",
      "Collecting async-generator; python_version < \"3.7\" (from nbclient<0.6.0,>=0.5.0->nbconvert>=5->notebook>=4.4.1->widgetsnbextension~=3.6.0->ipywidgets>=5.2.2->pycroscopy==0.60.7)\n",
      "  Using cached https://files.pythonhosted.org/packages/71/52/39d20e03abd0ac9159c162ec24b93fbcaa111e8400308f2465432495ca2b/async_generator-1.10-py3-none-any.whl\n",
      "Collecting packaging (from bleach->nbconvert>=5->notebook>=4.4.1->widgetsnbextension~=3.6.0->ipywidgets>=5.2.2->pycroscopy==0.60.7)\n",
      "  Using cached https://files.pythonhosted.org/packages/05/8e/8de486cbd03baba4deef4142bd643a3e7bbe954a784dc1bb17142572d127/packaging-21.3-py3-none-any.whl\n",
      "Requirement already satisfied: webencodings in /usr/lib/python3.6/site-packages (from bleach->nbconvert>=5->notebook>=4.4.1->widgetsnbextension~=3.6.0->ipywidgets>=5.2.2->pycroscopy==0.60.7)\n",
      "Requirement already satisfied: cffi>=1.0.1 in /usr/lib64/python3.6/site-packages (from argon2-cffi-bindings->argon2-cffi->notebook>=4.4.1->widgetsnbextension~=3.6.0->ipywidgets>=5.2.2->pycroscopy==0.60.7)\n",
      "Requirement already satisfied: pycparser in /usr/lib/python3.6/site-packages (from cffi>=1.0.1->argon2-cffi-bindings->argon2-cffi->notebook>=4.4.1->widgetsnbextension~=3.6.0->ipywidgets>=5.2.2->pycroscopy==0.60.7)\n",
      "Installing collected packages: pillow, numpy-groupies, kiwisolver, cycler, matplotlib, ipython-genutils, traitlets, parso, jedi, wcwidth, prompt-toolkit, pickleshare, ptyprocess, pexpect, pygments, backcall, ipython, jupyter-core, zipp, typing-extensions, importlib-metadata, pyrsistent, attrs, jsonschema, nbformat, Send2Trash, tornado, entrypoints, nest-asyncio, jupyter-client, ipykernel, async-generator, nbclient, mistune, pandocfilters, jupyterlab-pygments, testpath, packaging, bleach, defusedxml, nbconvert, prometheus-client, argon2-cffi-bindings, dataclasses, argon2-cffi, terminado, notebook, widgetsnbextension, jupyterlab-widgets, ipywidgets, joblib, threadpoolctl, scikit-learn, xlrd, toolz, cytoolz, sklearn, dask, tblib, sortedcontainers, heapdict, zict, click, cloudpickle, immutables, contextvars, distributed, cached-property, h5py, ipyfilechooser, sidpy, pyUSID, tifffile, networkx, PyWavelets, imageio, scikit-image, igor, gwyfile, pycroscopy\n",
      "  Running setup.py install for pillow ... \u001b[?25lerror\n",
      "    Complete output from command /usr/bin/python3.6 -u -c \"import setuptools, tokenize;__file__='/tmp/pip-build-f01et634/pillow/setup.py';f=getattr(tokenize, 'open', open)(__file__);code=f.read().replace('\\r\\n', '\\n');f.close();exec(compile(code, __file__, 'exec'))\" install --record /tmp/pip-qdr92tsn-record/install-record.txt --single-version-externally-managed --compile:\n",
      "    running install\n",
      "    running build\n",
      "    running build_py\n",
      "    creating build\n",
      "    creating build/lib.linux-x86_64-3.6\n",
      "    creating build/lib.linux-x86_64-3.6/PIL\n",
      "    copying src/PIL/PyAccess.py -> build/lib.linux-x86_64-3.6/PIL\n",
      "    copying src/PIL/ContainerIO.py -> build/lib.linux-x86_64-3.6/PIL\n",
      "    copying src/PIL/ImageQt.py -> build/lib.linux-x86_64-3.6/PIL\n",
      "    copying src/PIL/ImageOps.py -> build/lib.linux-x86_64-3.6/PIL\n",
      "    copying src/PIL/PcdImagePlugin.py -> build/lib.linux-x86_64-3.6/PIL\n",
      "    copying src/PIL/FitsStubImagePlugin.py -> build/lib.linux-x86_64-3.6/PIL\n",
      "    copying src/PIL/XpmImagePlugin.py -> build/lib.linux-x86_64-3.6/PIL\n",
      "    copying src/PIL/ImageEnhance.py -> build/lib.linux-x86_64-3.6/PIL\n",
      "    copying src/PIL/WebPImagePlugin.py -> build/lib.linux-x86_64-3.6/PIL\n",
      "    copying src/PIL/MpoImagePlugin.py -> build/lib.linux-x86_64-3.6/PIL\n",
      "    copying src/PIL/MpegImagePlugin.py -> build/lib.linux-x86_64-3.6/PIL\n",
      "    copying src/PIL/DdsImagePlugin.py -> build/lib.linux-x86_64-3.6/PIL\n",
      "    copying src/PIL/Jpeg2KImagePlugin.py -> build/lib.linux-x86_64-3.6/PIL\n",
      "    copying src/PIL/TiffTags.py -> build/lib.linux-x86_64-3.6/PIL\n",
      "    copying src/PIL/FliImagePlugin.py -> build/lib.linux-x86_64-3.6/PIL\n",
      "    copying src/PIL/_version.py -> build/lib.linux-x86_64-3.6/PIL\n",
      "    copying src/PIL/features.py -> build/lib.linux-x86_64-3.6/PIL\n",
      "    copying src/PIL/PcxImagePlugin.py -> build/lib.linux-x86_64-3.6/PIL\n",
      "    copying src/PIL/GribStubImagePlugin.py -> build/lib.linux-x86_64-3.6/PIL\n",
      "    copying src/PIL/BlpImagePlugin.py -> build/lib.linux-x86_64-3.6/PIL\n",
      "    copying src/PIL/PaletteFile.py -> build/lib.linux-x86_64-3.6/PIL\n",
      "    copying src/PIL/PpmImagePlugin.py -> build/lib.linux-x86_64-3.6/PIL\n",
      "    copying src/PIL/BdfFontFile.py -> build/lib.linux-x86_64-3.6/PIL\n",
      "    copying src/PIL/FontFile.py -> build/lib.linux-x86_64-3.6/PIL\n",
      "    copying src/PIL/__init__.py -> build/lib.linux-x86_64-3.6/PIL\n",
      "    copying src/PIL/ImageFilter.py -> build/lib.linux-x86_64-3.6/PIL\n",
      "    copying src/PIL/FpxImagePlugin.py -> build/lib.linux-x86_64-3.6/PIL\n",
      "    copying src/PIL/ImageShow.py -> build/lib.linux-x86_64-3.6/PIL\n",
      "    copying src/PIL/EpsImagePlugin.py -> build/lib.linux-x86_64-3.6/PIL\n",
      "    copying src/PIL/IptcImagePlugin.py -> build/lib.linux-x86_64-3.6/PIL\n",
      "    copying src/PIL/ImtImagePlugin.py -> build/lib.linux-x86_64-3.6/PIL\n",
      "    copying src/PIL/__main__.py -> build/lib.linux-x86_64-3.6/PIL\n",
      "    copying src/PIL/ImageStat.py -> build/lib.linux-x86_64-3.6/PIL\n",
      "    copying src/PIL/GbrImagePlugin.py -> build/lib.linux-x86_64-3.6/PIL\n",
      "    copying src/PIL/IcnsImagePlugin.py -> build/lib.linux-x86_64-3.6/PIL\n",
      "    copying src/PIL/TiffImagePlugin.py -> build/lib.linux-x86_64-3.6/PIL\n",
      "    copying src/PIL/PixarImagePlugin.py -> build/lib.linux-x86_64-3.6/PIL\n",
      "    copying src/PIL/ImageDraw2.py -> build/lib.linux-x86_64-3.6/PIL\n",
      "    copying src/PIL/ImImagePlugin.py -> build/lib.linux-x86_64-3.6/PIL\n",
      "    copying src/PIL/SpiderImagePlugin.py -> build/lib.linux-x86_64-3.6/PIL\n",
      "    copying src/PIL/ImagePath.py -> build/lib.linux-x86_64-3.6/PIL\n",
      "    copying src/PIL/WalImageFile.py -> build/lib.linux-x86_64-3.6/PIL\n",
      "    copying src/PIL/PdfParser.py -> build/lib.linux-x86_64-3.6/PIL\n",
      "    copying src/PIL/ImageDraw.py -> build/lib.linux-x86_64-3.6/PIL\n",
      "    copying src/PIL/XbmImagePlugin.py -> build/lib.linux-x86_64-3.6/PIL\n",
      "    copying src/PIL/GimpPaletteFile.py -> build/lib.linux-x86_64-3.6/PIL\n",
      "    copying src/PIL/WmfImagePlugin.py -> build/lib.linux-x86_64-3.6/PIL\n",
      "    copying src/PIL/SgiImagePlugin.py -> build/lib.linux-x86_64-3.6/PIL\n",
      "    copying src/PIL/ImageTransform.py -> build/lib.linux-x86_64-3.6/PIL\n",
      "    copying src/PIL/ImageSequence.py -> build/lib.linux-x86_64-3.6/PIL\n",
      "    copying src/PIL/ImageFont.py -> build/lib.linux-x86_64-3.6/PIL\n",
      "    copying src/PIL/BmpImagePlugin.py -> build/lib.linux-x86_64-3.6/PIL\n",
      "    copying src/PIL/Image.py -> build/lib.linux-x86_64-3.6/PIL\n",
      "    copying src/PIL/Hdf5StubImagePlugin.py -> build/lib.linux-x86_64-3.6/PIL\n",
      "    copying src/PIL/ImageCms.py -> build/lib.linux-x86_64-3.6/PIL\n",
      "    copying src/PIL/_tkinter_finder.py -> build/lib.linux-x86_64-3.6/PIL\n",
      "    copying src/PIL/ImageChops.py -> build/lib.linux-x86_64-3.6/PIL\n",
      "    copying src/PIL/PdfImagePlugin.py -> build/lib.linux-x86_64-3.6/PIL\n",
      "    copying src/PIL/TgaImagePlugin.py -> build/lib.linux-x86_64-3.6/PIL\n",
      "    copying src/PIL/JpegPresets.py -> build/lib.linux-x86_64-3.6/PIL\n",
      "    copying src/PIL/PSDraw.py -> build/lib.linux-x86_64-3.6/PIL\n",
      "    copying src/PIL/MicImagePlugin.py -> build/lib.linux-x86_64-3.6/PIL\n",
      "    copying src/PIL/ImageTk.py -> build/lib.linux-x86_64-3.6/PIL\n",
      "    copying src/PIL/McIdasImagePlugin.py -> build/lib.linux-x86_64-3.6/PIL\n",
      "    copying src/PIL/MspImagePlugin.py -> build/lib.linux-x86_64-3.6/PIL\n",
      "    copying src/PIL/GifImagePlugin.py -> build/lib.linux-x86_64-3.6/PIL\n",
      "    copying src/PIL/ImageWin.py -> build/lib.linux-x86_64-3.6/PIL\n",
      "    copying src/PIL/ImageGrab.py -> build/lib.linux-x86_64-3.6/PIL\n",
      "    copying src/PIL/SunImagePlugin.py -> build/lib.linux-x86_64-3.6/PIL\n",
      "    copying src/PIL/CurImagePlugin.py -> build/lib.linux-x86_64-3.6/PIL\n",
      "    copying src/PIL/FtexImagePlugin.py -> build/lib.linux-x86_64-3.6/PIL\n",
      "    copying src/PIL/ImagePalette.py -> build/lib.linux-x86_64-3.6/PIL\n",
      "    copying src/PIL/ImageMode.py -> build/lib.linux-x86_64-3.6/PIL\n",
      "    copying src/PIL/PsdImagePlugin.py -> build/lib.linux-x86_64-3.6/PIL\n",
      "    copying src/PIL/ImageMath.py -> build/lib.linux-x86_64-3.6/PIL\n",
      "    copying src/PIL/PngImagePlugin.py -> build/lib.linux-x86_64-3.6/PIL\n",
      "    copying src/PIL/BufrStubImagePlugin.py -> build/lib.linux-x86_64-3.6/PIL\n",
      "    copying src/PIL/ExifTags.py -> build/lib.linux-x86_64-3.6/PIL\n",
      "    copying src/PIL/ImageColor.py -> build/lib.linux-x86_64-3.6/PIL\n",
      "    copying src/PIL/PalmImagePlugin.py -> build/lib.linux-x86_64-3.6/PIL\n",
      "    copying src/PIL/IcoImagePlugin.py -> build/lib.linux-x86_64-3.6/PIL\n",
      "    copying src/PIL/GimpGradientFile.py -> build/lib.linux-x86_64-3.6/PIL\n",
      "    copying src/PIL/_util.py -> build/lib.linux-x86_64-3.6/PIL\n",
      "    copying src/PIL/ImageFile.py -> build/lib.linux-x86_64-3.6/PIL\n",
      "    copying src/PIL/TarIO.py -> build/lib.linux-x86_64-3.6/PIL\n",
      "    copying src/PIL/JpegImagePlugin.py -> build/lib.linux-x86_64-3.6/PIL\n",
      "    copying src/PIL/GdImageFile.py -> build/lib.linux-x86_64-3.6/PIL\n",
      "    copying src/PIL/XVThumbImagePlugin.py -> build/lib.linux-x86_64-3.6/PIL\n",
      "    copying src/PIL/PcfFontFile.py -> build/lib.linux-x86_64-3.6/PIL\n",
      "    copying src/PIL/_binary.py -> build/lib.linux-x86_64-3.6/PIL\n",
      "    copying src/PIL/DcxImagePlugin.py -> build/lib.linux-x86_64-3.6/PIL\n",
      "    copying src/PIL/ImageMorph.py -> build/lib.linux-x86_64-3.6/PIL\n",
      "    running egg_info\n",
      "    writing src/Pillow.egg-info/PKG-INFO\n",
      "    writing dependency_links to src/Pillow.egg-info/dependency_links.txt\n",
      "    writing top-level names to src/Pillow.egg-info/top_level.txt\n",
      "    reading manifest file 'src/Pillow.egg-info/SOURCES.txt'\n",
      "    reading manifest template 'MANIFEST.in'\n",
      "    warning: no files found matching '*.c'\n",
      "    warning: no files found matching '*.h'\n",
      "    warning: no files found matching '*.sh'\n",
      "    warning: no previously-included files found matching '.appveyor.yml'\n",
      "    warning: no previously-included files found matching '.clang-format'\n",
      "    warning: no previously-included files found matching '.coveragerc'\n",
      "    warning: no previously-included files found matching '.editorconfig'\n",
      "    warning: no previously-included files found matching '.readthedocs.yml'\n",
      "    warning: no previously-included files found matching 'codecov.yml'\n",
      "    warning: no previously-included files matching '.git*' found anywhere in distribution\n",
      "    warning: no previously-included files matching '*.pyc' found anywhere in distribution\n",
      "    warning: no previously-included files matching '*.so' found anywhere in distribution\n",
      "    no previously-included directories found matching '.ci'\n",
      "    writing manifest file 'src/Pillow.egg-info/SOURCES.txt'\n",
      "    running build_ext\n",
      "    \n",
      "    \n",
      "    The headers or library files could not be found for jpeg,\n",
      "    a required dependency when compiling Pillow from source.\n",
      "    \n",
      "    Please see the install instructions at:\n",
      "       https://pillow.readthedocs.io/en/latest/installation.html\n",
      "    \n",
      "    Traceback (most recent call last):\n",
      "      File \"/tmp/pip-build-f01et634/pillow/setup.py\", line 1024, in <module>\n",
      "        zip_safe=not (debug_build() or PLATFORM_MINGW),\n",
      "      File \"/usr/lib/python3.6/site-packages/setuptools/__init__.py\", line 129, in setup\n",
      "        return distutils.core.setup(**attrs)\n",
      "      File \"/usr/lib64/python3.6/distutils/core.py\", line 148, in setup\n",
      "        dist.run_commands()\n",
      "      File \"/usr/lib64/python3.6/distutils/dist.py\", line 955, in run_commands\n",
      "        self.run_command(cmd)\n",
      "      File \"/usr/lib64/python3.6/distutils/dist.py\", line 974, in run_command\n",
      "        cmd_obj.run()\n",
      "      File \"/usr/lib/python3.6/site-packages/setuptools/command/install.py\", line 61, in run\n",
      "        return orig.install.run(self)\n",
      "      File \"/usr/lib64/python3.6/distutils/command/install.py\", line 556, in run\n",
      "        self.run_command('build')\n",
      "      File \"/usr/lib64/python3.6/distutils/cmd.py\", line 313, in run_command\n",
      "        self.distribution.run_command(command)\n",
      "      File \"/usr/lib64/python3.6/distutils/dist.py\", line 974, in run_command\n",
      "        cmd_obj.run()\n",
      "      File \"/usr/lib64/python3.6/distutils/command/build.py\", line 135, in run\n",
      "        self.run_command(cmd_name)\n",
      "      File \"/usr/lib64/python3.6/distutils/cmd.py\", line 313, in run_command\n",
      "        self.distribution.run_command(command)\n",
      "      File \"/usr/lib64/python3.6/distutils/dist.py\", line 974, in run_command\n",
      "        cmd_obj.run()\n",
      "      File \"/usr/lib/python3.6/site-packages/setuptools/command/build_ext.py\", line 78, in run\n",
      "        _build_ext.run(self)\n",
      "      File \"/usr/lib64/python3.6/distutils/command/build_ext.py\", line 339, in run\n",
      "        self.build_extensions()\n",
      "      File \"/tmp/pip-build-f01et634/pillow/setup.py\", line 790, in build_extensions\n",
      "        raise RequiredDependencyException(f)\n",
      "    __main__.RequiredDependencyException: jpeg\n",
      "    \n",
      "    During handling of the above exception, another exception occurred:\n",
      "    \n",
      "    Traceback (most recent call last):\n",
      "      File \"<string>\", line 1, in <module>\n",
      "      File \"/tmp/pip-build-f01et634/pillow/setup.py\", line 1037, in <module>\n",
      "        raise RequiredDependencyException(msg)\n",
      "    __main__.RequiredDependencyException:\n",
      "    \n",
      "    The headers or library files could not be found for jpeg,\n",
      "    a required dependency when compiling Pillow from source.\n",
      "    \n",
      "    Please see the install instructions at:\n",
      "       https://pillow.readthedocs.io/en/latest/installation.html\n",
      "    \n",
      "    \n",
      "    \n",
      "    ----------------------------------------\n"
     ]
    },
    {
     "name": "stdout",
     "output_type": "stream",
     "text": [
      "\u001b[31mCommand \"/usr/bin/python3.6 -u -c \"import setuptools, tokenize;__file__='/tmp/pip-build-f01et634/pillow/setup.py';f=getattr(tokenize, 'open', open)(__file__);code=f.read().replace('\\r\\n', '\\n');f.close();exec(compile(code, __file__, 'exec'))\" install --record /tmp/pip-qdr92tsn-record/install-record.txt --single-version-externally-managed --compile\" failed with error code 1 in /tmp/pip-build-f01et634/pillow/\u001b[0m\n",
      "\u001b[?25hCollecting h5py==2.10.0\n",
      "  Using cached https://files.pythonhosted.org/packages/60/06/cafdd44889200e5438b897388f3075b52a8ef01f28a17366d91de0fa2d05/h5py-2.10.0-cp36-cp36m-manylinux1_x86_64.whl\n",
      "Requirement already satisfied: numpy>=1.7 in /usr/lib64/python3.6/site-packages (from h5py==2.10.0)\n",
      "Requirement already satisfied: six in /usr/lib/python3.6/site-packages (from h5py==2.10.0)\n",
      "Installing collected packages: h5py\n",
      "\u001b[31mException:\n",
      "Traceback (most recent call last):\n",
      "  File \"/usr/lib/python3.6/site-packages/pip/basecommand.py\", line 215, in main\n",
      "    status = self.run(options, args)\n",
      "  File \"/usr/lib/python3.6/site-packages/pip/commands/install.py\", line 365, in run\n",
      "    strip_file_prefix=options.strip_file_prefix,\n",
      "  File \"/usr/lib/python3.6/site-packages/pip/req/req_set.py\", line 789, in install\n",
      "    **kwargs\n",
      "  File \"/usr/lib/python3.6/site-packages/pip/req/req_install.py\", line 854, in install\n",
      "    strip_file_prefix=strip_file_prefix\n",
      "  File \"/usr/lib/python3.6/site-packages/pip/req/req_install.py\", line 1069, in move_wheel_files\n",
      "    strip_file_prefix=strip_file_prefix,\n",
      "  File \"/usr/lib/python3.6/site-packages/pip/wheel.py\", line 345, in move_wheel_files\n",
      "    clobber(source, lib_dir, True)\n",
      "  File \"/usr/lib/python3.6/site-packages/pip/wheel.py\", line 287, in clobber\n",
      "    ensure_dir(dest)  # common for the 'include' path\n",
      "  File \"/usr/lib/python3.6/site-packages/pip/utils/__init__.py\", line 83, in ensure_dir\n",
      "    os.makedirs(path)\n",
      "  File \"/usr/lib64/python3.6/os.py\", line 210, in makedirs\n",
      "    makedirs(head, mode, exist_ok)\n",
      "  File \"/usr/lib64/python3.6/os.py\", line 220, in makedirs\n",
      "    mkdir(name, mode)\n",
      "PermissionError: [Errno 13] Permission denied: '/usr/local/lib64/python3.6'\u001b[0m\n"
     ]
    }
   ],
   "source": [
    "# # installing PyTorch's Nightly version\n",
    "# !pip3 install --pre torch torchvision -f https://download.pytorch.org/whl/nightly/cu101/torch_nightly.html -U\n",
    "\n",
    "!pip3 install pycroscopy==0.60.7\n",
    "\n",
    "if os.path.exists(\"./BGlib\"):\n",
    "    pass\n",
    "else:\n",
    "    !git clone https://github.com/pycroscopy/BGlib.git\n",
    "    %cd BGlib/\n",
    "    !git tag -l\n",
    "    !git checkout 0.0.3\n",
    "    !git branch -D master\n",
    "    !git checkout -b master\n",
    "    %cd ..\n",
    "\n",
    "# downgrading the h5py version\n",
    "!pip3 install 'h5py==2.10.0' --force-reinstall"
   ]
  },
  {
   "cell_type": "code",
   "execution_count": 5,
   "id": "9ca6608d",
   "metadata": {},
   "outputs": [
    {
     "name": "stdout",
     "output_type": "stream",
     "text": [
      "Requirement already satisfied: gdown in /scratch/alibek_2/alibek_env/lib/python3.8/site-packages (3.13.0)\n",
      "Requirement already satisfied: filelock in /scratch/alibek_2/alibek_env/lib/python3.8/site-packages (from gdown) (3.0.12)\n",
      "Requirement already satisfied: requests[socks]>=2.12.0 in /scratch/alibek_2/alibek_env/lib/python3.8/site-packages (from gdown) (2.26.0)\n",
      "Requirement already satisfied: six in /scratch/alibek_2/alibek_env/lib/python3.8/site-packages (from gdown) (1.15.0)\n",
      "Requirement already satisfied: tqdm in /scratch/alibek_2/alibek_env/lib/python3.8/site-packages (from gdown) (4.62.1)\n",
      "Requirement already satisfied: urllib3<1.27,>=1.21.1 in /scratch/alibek_2/alibek_env/lib/python3.8/site-packages (from requests[socks]>=2.12.0->gdown) (1.26.6)\n",
      "Requirement already satisfied: certifi>=2017.4.17 in /scratch/alibek_2/alibek_env/lib/python3.8/site-packages (from requests[socks]>=2.12.0->gdown) (2021.5.30)\n",
      "Requirement already satisfied: idna<4,>=2.5; python_version >= \"3\" in /scratch/alibek_2/alibek_env/lib/python3.8/site-packages (from requests[socks]>=2.12.0->gdown) (3.2)\n",
      "Requirement already satisfied: charset-normalizer~=2.0.0; python_version >= \"3\" in /scratch/alibek_2/alibek_env/lib/python3.8/site-packages (from requests[socks]>=2.12.0->gdown) (2.0.4)\n",
      "Requirement already satisfied: PySocks!=1.5.7,>=1.5.6; extra == \"socks\" in /scratch/alibek_2/alibek_env/lib/python3.8/site-packages (from requests[socks]>=2.12.0->gdown) (1.7.1)\n",
      "\u001b[33mWARNING: You are using pip version 20.2.1; however, version 22.1.1 is available.\n",
      "You should consider upgrading via the '/scratch/alibek_2/alibek_env/bin/python3 -m pip install --upgrade pip' command.\u001b[0m\n"
     ]
    }
   ],
   "source": [
    "!pip install gdown"
   ]
  },
  {
   "cell_type": "code",
   "execution_count": 6,
   "id": "694d67fd",
   "metadata": {},
   "outputs": [
    {
     "name": "stdout",
     "output_type": "stream",
     "text": [
      "Requirement already satisfied: moviepy in /scratch/alibek_2/alibek_env/lib/python3.8/site-packages (1.0.3)\n",
      "Requirement already satisfied: decorator<5.0,>=4.0.2 in /scratch/alibek_2/alibek_env/lib/python3.8/site-packages (from moviepy) (4.4.2)\n",
      "Requirement already satisfied: tqdm<5.0,>=4.11.2 in /scratch/alibek_2/alibek_env/lib/python3.8/site-packages (from moviepy) (4.62.1)\n",
      "Requirement already satisfied: requests<3.0,>=2.8.1 in /scratch/alibek_2/alibek_env/lib/python3.8/site-packages (from moviepy) (2.26.0)\n",
      "Requirement already satisfied: proglog<=1.0.0 in /scratch/alibek_2/alibek_env/lib/python3.8/site-packages (from moviepy) (0.1.9)\n",
      "Requirement already satisfied: numpy>=1.17.3 in /scratch/alibek_2/alibek_env/lib/python3.8/site-packages (from moviepy) (1.19.5)\n",
      "Requirement already satisfied: imageio<3.0,>=2.5 in /scratch/alibek_2/alibek_env/lib/python3.8/site-packages (from moviepy) (2.9.0)\n",
      "Requirement already satisfied: imageio_ffmpeg>=0.2.0 in /scratch/alibek_2/alibek_env/lib/python3.8/site-packages (from moviepy) (0.4.4)\n",
      "Requirement already satisfied: urllib3<1.27,>=1.21.1 in /scratch/alibek_2/alibek_env/lib/python3.8/site-packages (from requests<3.0,>=2.8.1->moviepy) (1.26.6)\n",
      "Requirement already satisfied: charset-normalizer~=2.0.0; python_version >= \"3\" in /scratch/alibek_2/alibek_env/lib/python3.8/site-packages (from requests<3.0,>=2.8.1->moviepy) (2.0.4)\n",
      "Requirement already satisfied: idna<4,>=2.5; python_version >= \"3\" in /scratch/alibek_2/alibek_env/lib/python3.8/site-packages (from requests<3.0,>=2.8.1->moviepy) (3.2)\n",
      "Requirement already satisfied: certifi>=2017.4.17 in /scratch/alibek_2/alibek_env/lib/python3.8/site-packages (from requests<3.0,>=2.8.1->moviepy) (2021.5.30)\n",
      "Requirement already satisfied: pillow in /scratch/alibek_2/alibek_env/lib/python3.8/site-packages (from imageio<3.0,>=2.5->moviepy) (9.0.0)\n",
      "\u001b[33mWARNING: You are using pip version 20.2.1; however, version 22.1.1 is available.\n",
      "You should consider upgrading via the '/scratch/alibek_2/alibek_env/bin/python3 -m pip install --upgrade pip' command.\u001b[0m\n"
     ]
    }
   ],
   "source": [
    "!pip install moviepy"
   ]
  },
  {
   "cell_type": "code",
   "execution_count": 7,
   "id": "e6e2b661",
   "metadata": {},
   "outputs": [
    {
     "name": "stdout",
     "output_type": "stream",
     "text": [
      "Requirement already satisfied: pandas in /scratch/alibek_2/alibek_env/lib/python3.8/site-packages (1.3.2)\n",
      "Requirement already satisfied: pytz>=2017.3 in /scratch/alibek_2/alibek_env/lib/python3.8/site-packages (from pandas) (2021.1)\n",
      "Requirement already satisfied: numpy>=1.17.3 in /scratch/alibek_2/alibek_env/lib/python3.8/site-packages (from pandas) (1.19.5)\n",
      "Requirement already satisfied: python-dateutil>=2.7.3 in /scratch/alibek_2/alibek_env/lib/python3.8/site-packages (from pandas) (2.8.2)\n",
      "Requirement already satisfied: six>=1.5 in /scratch/alibek_2/alibek_env/lib/python3.8/site-packages (from python-dateutil>=2.7.3->pandas) (1.15.0)\n",
      "\u001b[33mWARNING: You are using pip version 20.2.1; however, version 22.1.1 is available.\n",
      "You should consider upgrading via the '/scratch/alibek_2/alibek_env/bin/python3 -m pip install --upgrade pip' command.\u001b[0m\n"
     ]
    }
   ],
   "source": [
    "!pip install pandas"
   ]
  },
  {
   "cell_type": "code",
   "execution_count": 8,
   "id": "e9db7d75",
   "metadata": {},
   "outputs": [
    {
     "name": "stdout",
     "output_type": "stream",
     "text": [
      "Requirement already satisfied: tensorflow in /scratch/alibek_2/alibek_env/lib/python3.8/site-packages (2.6.0)\n",
      "Requirement already satisfied: termcolor~=1.1.0 in /scratch/alibek_2/alibek_env/lib/python3.8/site-packages (from tensorflow) (1.1.0)\n",
      "Requirement already satisfied: typing-extensions~=3.7.4 in /scratch/alibek_2/alibek_env/lib/python3.8/site-packages (from tensorflow) (3.7.4.3)\n",
      "Requirement already satisfied: google-pasta~=0.2 in /scratch/alibek_2/alibek_env/lib/python3.8/site-packages (from tensorflow) (0.2.0)\n",
      "Requirement already satisfied: flatbuffers~=1.12.0 in /scratch/alibek_2/alibek_env/lib/python3.8/site-packages (from tensorflow) (1.12)\n",
      "Requirement already satisfied: tensorflow-estimator~=2.6 in /scratch/alibek_2/alibek_env/lib/python3.8/site-packages (from tensorflow) (2.6.0)\n",
      "Requirement already satisfied: wrapt~=1.12.1 in /scratch/alibek_2/alibek_env/lib/python3.8/site-packages (from tensorflow) (1.12.1)\n",
      "Requirement already satisfied: keras-preprocessing~=1.1.2 in /scratch/alibek_2/alibek_env/lib/python3.8/site-packages (from tensorflow) (1.1.2)\n",
      "Requirement already satisfied: keras~=2.6 in /scratch/alibek_2/alibek_env/lib/python3.8/site-packages (from tensorflow) (2.6.0)\n",
      "Requirement already satisfied: h5py~=3.1.0 in /scratch/alibek_2/alibek_env/lib/python3.8/site-packages (from tensorflow) (3.1.0)\n",
      "Requirement already satisfied: tensorboard~=2.6 in /scratch/alibek_2/alibek_env/lib/python3.8/site-packages (from tensorflow) (2.6.0)\n",
      "Requirement already satisfied: grpcio<2.0,>=1.37.0 in /scratch/alibek_2/alibek_env/lib/python3.8/site-packages (from tensorflow) (1.39.0)\n",
      "Requirement already satisfied: clang~=5.0 in /scratch/alibek_2/alibek_env/lib/python3.8/site-packages (from tensorflow) (5.0)\n",
      "Requirement already satisfied: astunparse~=1.6.3 in /scratch/alibek_2/alibek_env/lib/python3.8/site-packages (from tensorflow) (1.6.3)\n",
      "Requirement already satisfied: six~=1.15.0 in /scratch/alibek_2/alibek_env/lib/python3.8/site-packages (from tensorflow) (1.15.0)\n",
      "Requirement already satisfied: numpy~=1.19.2 in /scratch/alibek_2/alibek_env/lib/python3.8/site-packages (from tensorflow) (1.19.5)\n",
      "Requirement already satisfied: gast==0.4.0 in /scratch/alibek_2/alibek_env/lib/python3.8/site-packages (from tensorflow) (0.4.0)\n",
      "Requirement already satisfied: opt-einsum~=3.3.0 in /scratch/alibek_2/alibek_env/lib/python3.8/site-packages (from tensorflow) (3.3.0)\n",
      "Requirement already satisfied: absl-py~=0.10 in /scratch/alibek_2/alibek_env/lib/python3.8/site-packages (from tensorflow) (0.13.0)\n",
      "Requirement already satisfied: wheel~=0.35 in /scratch/alibek_2/alibek_env/lib/python3.8/site-packages (from tensorflow) (0.37.0)\n",
      "Requirement already satisfied: protobuf>=3.9.2 in /scratch/alibek_2/alibek_env/lib/python3.8/site-packages (from tensorflow) (3.17.3)\n",
      "Requirement already satisfied: google-auth-oauthlib<0.5,>=0.4.1 in /scratch/alibek_2/alibek_env/lib/python3.8/site-packages (from tensorboard~=2.6->tensorflow) (0.4.5)\n",
      "Requirement already satisfied: requests<3,>=2.21.0 in /scratch/alibek_2/alibek_env/lib/python3.8/site-packages (from tensorboard~=2.6->tensorflow) (2.26.0)\n",
      "Requirement already satisfied: tensorboard-data-server<0.7.0,>=0.6.0 in /scratch/alibek_2/alibek_env/lib/python3.8/site-packages (from tensorboard~=2.6->tensorflow) (0.6.1)\n",
      "Requirement already satisfied: setuptools>=41.0.0 in /scratch/alibek_2/alibek_env/lib/python3.8/site-packages (from tensorboard~=2.6->tensorflow) (49.2.1)\n",
      "Requirement already satisfied: tensorboard-plugin-wit>=1.6.0 in /scratch/alibek_2/alibek_env/lib/python3.8/site-packages (from tensorboard~=2.6->tensorflow) (1.8.0)\n",
      "Requirement already satisfied: markdown>=2.6.8 in /scratch/alibek_2/alibek_env/lib/python3.8/site-packages (from tensorboard~=2.6->tensorflow) (3.3.4)\n",
      "Requirement already satisfied: werkzeug>=0.11.15 in /scratch/alibek_2/alibek_env/lib/python3.8/site-packages (from tensorboard~=2.6->tensorflow) (2.0.1)\n",
      "Requirement already satisfied: google-auth<2,>=1.6.3 in /scratch/alibek_2/alibek_env/lib/python3.8/site-packages (from tensorboard~=2.6->tensorflow) (1.35.0)\n",
      "Requirement already satisfied: requests-oauthlib>=0.7.0 in /scratch/alibek_2/alibek_env/lib/python3.8/site-packages (from google-auth-oauthlib<0.5,>=0.4.1->tensorboard~=2.6->tensorflow) (1.3.0)\n",
      "Requirement already satisfied: charset-normalizer~=2.0.0; python_version >= \"3\" in /scratch/alibek_2/alibek_env/lib/python3.8/site-packages (from requests<3,>=2.21.0->tensorboard~=2.6->tensorflow) (2.0.4)\n",
      "Requirement already satisfied: idna<4,>=2.5; python_version >= \"3\" in /scratch/alibek_2/alibek_env/lib/python3.8/site-packages (from requests<3,>=2.21.0->tensorboard~=2.6->tensorflow) (3.2)\n",
      "Requirement already satisfied: urllib3<1.27,>=1.21.1 in /scratch/alibek_2/alibek_env/lib/python3.8/site-packages (from requests<3,>=2.21.0->tensorboard~=2.6->tensorflow) (1.26.6)\n",
      "Requirement already satisfied: certifi>=2017.4.17 in /scratch/alibek_2/alibek_env/lib/python3.8/site-packages (from requests<3,>=2.21.0->tensorboard~=2.6->tensorflow) (2021.5.30)\n",
      "Requirement already satisfied: cachetools<5.0,>=2.0.0 in /scratch/alibek_2/alibek_env/lib/python3.8/site-packages (from google-auth<2,>=1.6.3->tensorboard~=2.6->tensorflow) (4.2.2)\n",
      "Requirement already satisfied: pyasn1-modules>=0.2.1 in /scratch/alibek_2/alibek_env/lib/python3.8/site-packages (from google-auth<2,>=1.6.3->tensorboard~=2.6->tensorflow) (0.2.8)\n",
      "Requirement already satisfied: rsa<5,>=3.1.4; python_version >= \"3.6\" in /scratch/alibek_2/alibek_env/lib/python3.8/site-packages (from google-auth<2,>=1.6.3->tensorboard~=2.6->tensorflow) (4.7.2)\n",
      "Requirement already satisfied: oauthlib>=3.0.0 in /scratch/alibek_2/alibek_env/lib/python3.8/site-packages (from requests-oauthlib>=0.7.0->google-auth-oauthlib<0.5,>=0.4.1->tensorboard~=2.6->tensorflow) (3.1.1)\n",
      "Requirement already satisfied: pyasn1<0.5.0,>=0.4.6 in /scratch/alibek_2/alibek_env/lib/python3.8/site-packages (from pyasn1-modules>=0.2.1->google-auth<2,>=1.6.3->tensorboard~=2.6->tensorflow) (0.4.8)\n",
      "\u001b[33mWARNING: You are using pip version 20.2.1; however, version 22.1.1 is available.\n",
      "You should consider upgrading via the '/scratch/alibek_2/alibek_env/bin/python3 -m pip install --upgrade pip' command.\u001b[0m\n"
     ]
    }
   ],
   "source": [
    "!pip install tensorflow"
   ]
  },
  {
   "cell_type": "markdown",
   "id": "7a7507a9",
   "metadata": {},
   "source": [
    "### Importing Packages (code)"
   ]
  },
  {
   "cell_type": "code",
   "execution_count": 9,
   "id": "df3ed811",
   "metadata": {},
   "outputs": [],
   "source": [
    "import gdown\n",
    "import multiprocessing\n",
    "from sklearn.preprocessing import StandardScaler\n",
    "from sklearn.preprocessing import MinMaxScaler\n",
    "from sklearn.model_selection import train_test_split\n",
    "#from numba import jit\n",
    "import random\n",
    "import time\n",
    "import torch\n",
    "import torch.nn.functional as F\n",
    "import torch.nn as nn\n",
    "from torch.utils.data import DataLoader\n",
    "import torch.optim.lr_scheduler as lr_scheduler\n",
    "import argparse\n",
    "#import seaborn as sns\n",
    "from scipy.signal import resample\n",
    "from scipy import fftpack\n",
    "from scipy import io\n",
    "from scipy import special\n",
    "# import tensorflow as tf\n",
    "# import tensorflow.keras.backend as K\n",
    "# import tensorflow.keras.layers as layers\n",
    "# from tensorflow.keras.layers import Input, LSTM, Dense\n",
    "# from tensorflow.keras.layers import (Attention, Dense, Conv1D, Convolution2D, \n",
    "#                                      GRU, LSTM, Bidirectional, TimeDistributed,\n",
    "#                                      Dropout, Flatten, LayerNormalization, \n",
    "#                                      RepeatVector, Reshape, MaxPooling1D, \n",
    "#                                      UpSampling1D, BatchNormalization, Activation)\n",
    "# from tensorflow.keras.layers import Layer\n",
    "# from tensorflow.keras.models import Sequential, Model\n",
    "# from tensorflow.keras.layers import Dense, Dropout, Activation, Flatten, Reshape\n",
    "# from tensorflow.keras.layers import BatchNormalization, Conv1D, MaxPooling1D\n",
    "# from tensorflow.keras import layers\n",
    "# from tensorflow.keras.optimizers import Adam\n",
    "# from tensorflow.keras.regularizers import l1, l2\n",
    "# from tensorflow.keras.models import load_model\n",
    "# from tensorflow.keras.callbacks import ModelCheckpoint\n",
    "from multiprocessing import Pool, Process\n",
    "import multiprocessing as mp\n",
    "from moviepy.editor import *\n",
    "import glob\n",
    "from sklearn.metrics import mean_squared_error\n",
    "import gc\n",
    "import sidpy\n",
    "from BGlib.BGlib import be as belib\n",
    " \n",
    "# set up notebook to show plots within the notebook\n",
    "%matplotlib inline\n",
    "import matplotlib.image as mpimg\n",
    "from matplotlib.offsetbox import TextArea, DrawingArea, OffsetImage, AnnotationBbox\n",
    "from matplotlib.patches import ConnectionPatch\n",
    "\n",
    "# Import necessary libraries:\n",
    "# General utilities:\n",
    "import sys\n",
    "import os\n",
    "import gc\n",
    "\n",
    "# Computation:\n",
    "import numpy as np\n",
    "import h5py\n",
    "import pandas as pd\n",
    "\n",
    "# Visualization:\n",
    "import matplotlib.pyplot as plt\n",
    "import ipywidgets as widgets\n",
    "from IPython.display import display\n",
    "from IPython.display import Image\n",
    "from IPython.display import clear_output\n",
    "from mpl_toolkits.axes_grid1 import ImageGrid\n",
    "\n",
    "# Finally, pycroscopy itself\n",
    "sys.path.append('../../../')\n",
    "import pyUSID as usid\n",
    "from codes.util.preprocessing_global_standard_scaler import global_standard_scaler\n",
    "from sidpy.hdf.hdf_utils import write_simple_attrs, get_attr\n",
    "from pyUSID.io.hdf_utils import create_results_group, write_main_dataset, write_reduced_anc_dsets, create_empty_dataset, reshape_to_n_dims, get_auxiliary_datasets\n",
    "from pyUSID.io.usi_data import USIDataset\n",
    "from pyUSID.io import Dimension\n",
    "\n",
    "from codes.util.file import print_tree\n",
    "from codes.util.core import SHO_fit_func_torch, loop_fitting_function, loop_fitting_function_tf, computeDotProducts, normOfVar, fit_loop_function, computeTime, conventional_fit_loop_function\n",
    "from codes.viz.plot import plot_best_worst_SHO, make_movie, plot_best_worst_loops, plot_reconstruction_comparison_SHO, plot_reconstruction_comparison_loops\n",
    "from codes.util.postprocessing import transform_params, convert_real_imag\n",
    "from codes.util.preprocessing_global_scaler import global_scaler\n",
    "from codes.processing.filters import range_filter, clean_interpolate, interpolate_missing_points\n",
    "from codes.algorithm.TRPCGOptimizerv2 import TRPCGOptimizerv2\n",
    "from codes.algorithm.AdaHessian import AdaHessian\n",
    "\n",
    "import numpy.lib.recfunctions as rfn\n",
    "\n",
    "import json # For dealing with metadata\n",
    "import os # For file level operations\n",
    "import time # For timing demonstrations\n",
    "import datetime # To demonstrate conversion between date and time formats\n",
    "from datafed.CommandLib import API\n",
    "\n",
    "# from xml.dom import minidom\n",
    "# import numpy as np\n",
    "# import os\n",
    "\n",
    "# import xmltodict"
   ]
  },
  {
   "cell_type": "code",
   "execution_count": 10,
   "id": "fcd9ac03",
   "metadata": {},
   "outputs": [
    {
     "data": {
      "text/plain": [
       "'1.9.0+cu111'"
      ]
     },
     "execution_count": 10,
     "metadata": {},
     "output_type": "execute_result"
    }
   ],
   "source": [
    "torch.__version__"
   ]
  },
  {
   "cell_type": "code",
   "execution_count": 11,
   "id": "e956fe26",
   "metadata": {},
   "outputs": [
    {
     "data": {
      "text/plain": [
       "64"
      ]
     },
     "execution_count": 11,
     "metadata": {},
     "output_type": "execute_result"
    }
   ],
   "source": [
    "# shows the number of CPU cores\n",
    "multiprocessing.cpu_count()"
   ]
  },
  {
   "cell_type": "code",
   "execution_count": 12,
   "id": "68209636",
   "metadata": {},
   "outputs": [
    {
     "data": {
      "text/plain": [
       "70"
      ]
     },
     "execution_count": 12,
     "metadata": {},
     "output_type": "execute_result"
    }
   ],
   "source": [
    "gc.collect()"
   ]
  },
  {
   "cell_type": "code",
   "execution_count": 13,
   "id": "a81384f7",
   "metadata": {},
   "outputs": [
    {
     "name": "stdout",
     "output_type": "stream",
     "text": [
      "Collecting torch==1.9.0+cu111\n",
      "  Using cached https://download.pytorch.org/whl/cu111/torch-1.9.0%2Bcu111-cp36-cp36m-linux_x86_64.whl\n",
      "Collecting torchvision==0.10.0+cu111\n",
      "  Using cached https://download.pytorch.org/whl/cu111/torchvision-0.10.0%2Bcu111-cp36-cp36m-linux_x86_64.whl\n",
      "Collecting torchaudio==0.9.0\n",
      "  Using cached https://files.pythonhosted.org/packages/18/75/e432d6c58771668ed917038a6d473edfdd5465640eec169f49a823ecf0cc/torchaudio-0.9.0-cp36-cp36m-manylinux1_x86_64.whl\n",
      "Collecting typing-extensions (from torch==1.9.0+cu111)\n",
      "  Using cached https://files.pythonhosted.org/packages/45/6b/44f7f8f1e110027cf88956b59f2fad776cca7e1704396d043f89effd3a0e/typing_extensions-4.1.1-py3-none-any.whl\n",
      "Collecting dataclasses; python_version < \"3.7\" (from torch==1.9.0+cu111)\n",
      "  Using cached https://files.pythonhosted.org/packages/fe/ca/75fac5856ab5cfa51bbbcefa250182e50441074fdc3f803f6e76451fab43/dataclasses-0.8-py3-none-any.whl\n",
      "Requirement already satisfied: numpy in /usr/lib64/python3.6/site-packages (from torchvision==0.10.0+cu111)\n",
      "Collecting pillow>=5.3.0 (from torchvision==0.10.0+cu111)\n",
      "  Using cached https://files.pythonhosted.org/packages/7d/2a/2fc11b54e2742db06297f7fa7f420a0e3069fdcf0e4b57dfec33f0b08622/Pillow-8.4.0.tar.gz\n",
      "Installing collected packages: typing-extensions, dataclasses, torch, pillow, torchvision, torchaudio\n",
      "\u001b[31mException:\n",
      "Traceback (most recent call last):\n",
      "  File \"/usr/lib/python3.6/site-packages/pip/basecommand.py\", line 215, in main\n",
      "    status = self.run(options, args)\n",
      "  File \"/usr/lib/python3.6/site-packages/pip/commands/install.py\", line 365, in run\n",
      "    strip_file_prefix=options.strip_file_prefix,\n",
      "  File \"/usr/lib/python3.6/site-packages/pip/req/req_set.py\", line 789, in install\n",
      "    **kwargs\n",
      "  File \"/usr/lib/python3.6/site-packages/pip/req/req_install.py\", line 854, in install\n",
      "    strip_file_prefix=strip_file_prefix\n",
      "  File \"/usr/lib/python3.6/site-packages/pip/req/req_install.py\", line 1069, in move_wheel_files\n",
      "    strip_file_prefix=strip_file_prefix,\n",
      "  File \"/usr/lib/python3.6/site-packages/pip/wheel.py\", line 345, in move_wheel_files\n",
      "    clobber(source, lib_dir, True)\n",
      "  File \"/usr/lib/python3.6/site-packages/pip/wheel.py\", line 287, in clobber\n",
      "    ensure_dir(dest)  # common for the 'include' path\n",
      "  File \"/usr/lib/python3.6/site-packages/pip/utils/__init__.py\", line 83, in ensure_dir\n",
      "    os.makedirs(path)\n",
      "  File \"/usr/lib64/python3.6/os.py\", line 210, in makedirs\n",
      "    makedirs(head, mode, exist_ok)\n",
      "  File \"/usr/lib64/python3.6/os.py\", line 220, in makedirs\n",
      "    mkdir(name, mode)\n",
      "PermissionError: [Errno 13] Permission denied: '/usr/local/lib/python3.6'\u001b[0m\n"
     ]
    }
   ],
   "source": [
    "!pip3 install torch==1.9.0+cu111 torchvision==0.10.0+cu111 torchaudio==0.9.0 -f https://download.pytorch.org/whl/torch_stable.html --force-reinstall"
   ]
  },
  {
   "cell_type": "code",
   "execution_count": 14,
   "id": "59e5a12b",
   "metadata": {},
   "outputs": [
    {
     "name": "stdout",
     "output_type": "stream",
     "text": [
      "Sun May 29 19:25:33 2022       \n",
      "+-----------------------------------------------------------------------------+\n",
      "| NVIDIA-SMI 460.73.01    Driver Version: 460.73.01    CUDA Version: 11.2     |\n",
      "|-------------------------------+----------------------+----------------------+\n",
      "| GPU  Name        Persistence-M| Bus-Id        Disp.A | Volatile Uncorr. ECC |\n",
      "| Fan  Temp  Perf  Pwr:Usage/Cap|         Memory-Usage | GPU-Util  Compute M. |\n",
      "|                               |                      |               MIG M. |\n",
      "|===============================+======================+======================|\n",
      "|   0  A100-SXM4-40GB      Off  | 00000000:2F:00.0 Off |                    0 |\n",
      "| N/A   32C    P0    60W / 400W |   3068MiB / 40536MiB |      0%      Default |\n",
      "|                               |                      |             Disabled |\n",
      "+-------------------------------+----------------------+----------------------+\n",
      "|   1  A100-SXM4-40GB      Off  | 00000000:30:00.0 Off |                    0 |\n",
      "| N/A   49C    P0   397W / 400W |  34774MiB / 40536MiB |     93%      Default |\n",
      "|                               |                      |             Disabled |\n",
      "+-------------------------------+----------------------+----------------------+\n",
      "|   2  A100-SXM4-40GB      Off  | 00000000:AF:00.0 Off |                    0 |\n",
      "| N/A   45C    P0   376W / 400W |  35266MiB / 40536MiB |     99%      Default |\n",
      "|                               |                      |             Disabled |\n",
      "+-------------------------------+----------------------+----------------------+\n",
      "|   3  A100-SXM4-40GB      Off  | 00000000:B0:00.0 Off |                    0 |\n",
      "| N/A   51C    P0   205W / 400W |  38417MiB / 40536MiB |     99%      Default |\n",
      "|                               |                      |             Disabled |\n",
      "+-------------------------------+----------------------+----------------------+\n",
      "                                                                               \n",
      "+-----------------------------------------------------------------------------+\n",
      "| Processes:                                                                  |\n",
      "|  GPU   GI   CI        PID   Type   Process name                  GPU Memory |\n",
      "|        ID   ID                                                   Usage      |\n",
      "|=============================================================================|\n",
      "|    1   N/A  N/A    272960      C   ...da3/envs/shuyu/bin/python    34771MiB |\n",
      "|    2   N/A  N/A   4183585      C   ...da3/envs/shuyu/bin/python    35263MiB |\n",
      "|    3   N/A  N/A   1612304      C   ...onda3/envs/gyc/bin/python    12007MiB |\n",
      "|    3   N/A  N/A   1615657      C   ...onda3/envs/gyc/bin/python    15239MiB |\n",
      "|    3   N/A  N/A   2063518      C   ...onda3/envs/gyc/bin/python     3523MiB |\n",
      "|    3   N/A  N/A   3680797      C   ...onda3/envs/gyc/bin/python     7645MiB |\n",
      "+-----------------------------------------------------------------------------+\n"
     ]
    }
   ],
   "source": [
    "# shows the GPU that is available and the resources\n",
    "!nvidia-smi"
   ]
  },
  {
   "cell_type": "code",
   "execution_count": 15,
   "id": "357ee206",
   "metadata": {},
   "outputs": [
    {
     "data": {
      "text/plain": [
       "True"
      ]
     },
     "execution_count": 15,
     "metadata": {},
     "output_type": "execute_result"
    }
   ],
   "source": [
    "torch.cuda.is_available()"
   ]
  },
  {
   "cell_type": "code",
   "execution_count": 16,
   "id": "af1bbdde",
   "metadata": {},
   "outputs": [],
   "source": [
    "# fixes the random seed for reproducible training\n",
    "torch.set_default_dtype(torch.float64)\n",
    "torch.manual_seed(42)\n",
    "np.random.seed(42)"
   ]
  },
  {
   "cell_type": "code",
   "execution_count": 17,
   "id": "13ee3287",
   "metadata": {},
   "outputs": [
    {
     "data": {
      "text/plain": [
       "'1.9.0+cu111'"
      ]
     },
     "execution_count": 17,
     "metadata": {},
     "output_type": "execute_result"
    }
   ],
   "source": [
    "torch.__version__"
   ]
  },
  {
   "cell_type": "markdown",
   "id": "5f52fe3d",
   "metadata": {
    "id": "Ol1F9fy7Mo1v"
   },
   "source": [
    "### Loading data for SHO fitting (code)"
   ]
  },
  {
   "cell_type": "code",
   "execution_count": 18,
   "id": "4fd1d587",
   "metadata": {
    "colab": {
     "base_uri": "https://localhost:8080/"
    },
    "id": "xRIcp94ufPLz",
    "outputId": "153355b8-9f09-4a1e-cbca-612ca70492bc"
   },
   "outputs": [
    {
     "name": "stdout",
     "output_type": "stream",
     "text": [
      "/\n",
      "├ Measurement_000\n",
      "  ---------------\n",
      "  ├ Channel_000\n",
      "    -----------\n",
      "    ├ Bin_FFT\n",
      "    ├ Bin_Frequencies\n",
      "    ├ Bin_Indices\n",
      "    ├ Bin_Step\n",
      "    ├ Bin_Wfm_Type\n",
      "    ├ Excitation_Waveform\n",
      "    ├ Noise_Floor\n",
      "    ├ Position_Indices\n",
      "    ├ Position_Values\n",
      "    ├ Raw_Data\n",
      "    ├ Raw_Data-SHO_Fit_000\n",
      "      --------------------\n",
      "      ├ Fit\n",
      "      ├ Guess\n",
      "      ├ Spectroscopic_Indices\n",
      "      ├ Spectroscopic_Values\n",
      "      ├ completed_fit_positions\n",
      "      ├ completed_guess_positions\n",
      "    ├ Spatially_Averaged_Plot_Group_000\n",
      "      ---------------------------------\n",
      "      ├ Bin_Frequencies\n",
      "      ├ Max_Response\n",
      "      ├ Mean_Spectrogram\n",
      "      ├ Min_Response\n",
      "      ├ Spectroscopic_Parameter\n",
      "      ├ Step_Averaged_Response\n",
      "    ├ Spatially_Averaged_Plot_Group_001\n",
      "      ---------------------------------\n",
      "      ├ Bin_Frequencies\n",
      "      ├ Max_Response\n",
      "      ├ Mean_Spectrogram\n",
      "      ├ Min_Response\n",
      "      ├ Spectroscopic_Parameter\n",
      "      ├ Step_Averaged_Response\n",
      "    ├ Spectroscopic_Indices\n",
      "    ├ Spectroscopic_Values\n",
      "    ├ UDVS\n",
      "    ├ UDVS_Indices\n"
     ]
    }
   ],
   "source": [
    "# Opens the translated file\n",
    "h5_f_init = h5py.File('./data_file_init_4.0.h5', 'r+')\n",
    "\n",
    "#Inspects the h5 file\n",
    "usid.hdf_utils.print_tree(h5_f_init)"
   ]
  },
  {
   "cell_type": "code",
   "execution_count": 19,
   "id": "cd3cb70f",
   "metadata": {
    "colab": {
     "base_uri": "https://localhost:8080/"
    },
    "id": "49u7-Tiqf1eD",
    "outputId": "896b876d-fe93-4aee-e246-a32989665775",
    "scrolled": true
   },
   "outputs": [
    {
     "name": "stdout",
     "output_type": "stream",
     "text": [
      "Datasets and datagroups within the file:\n",
      "------------------------------------\n",
      "/\n",
      "/Measurement_000\n",
      "/Measurement_000/Channel_000\n",
      "/Measurement_000/Channel_000/Bin_FFT\n",
      "/Measurement_000/Channel_000/Bin_Frequencies\n",
      "/Measurement_000/Channel_000/Bin_Indices\n",
      "/Measurement_000/Channel_000/Bin_Step\n",
      "/Measurement_000/Channel_000/Bin_Wfm_Type\n",
      "/Measurement_000/Channel_000/Excitation_Waveform\n",
      "/Measurement_000/Channel_000/Noise_Floor\n",
      "/Measurement_000/Channel_000/Position_Indices\n",
      "/Measurement_000/Channel_000/Position_Values\n",
      "/Measurement_000/Channel_000/Raw_Data\n",
      "/Measurement_000/Channel_000/Raw_Data-SHO_Fit_000\n",
      "/Measurement_000/Channel_000/Raw_Data-SHO_Fit_000/Fit\n",
      "/Measurement_000/Channel_000/Raw_Data-SHO_Fit_000/Guess\n",
      "/Measurement_000/Channel_000/Raw_Data-SHO_Fit_000/Spectroscopic_Indices\n",
      "/Measurement_000/Channel_000/Raw_Data-SHO_Fit_000/Spectroscopic_Values\n",
      "/Measurement_000/Channel_000/Raw_Data-SHO_Fit_000/completed_fit_positions\n",
      "/Measurement_000/Channel_000/Raw_Data-SHO_Fit_000/completed_guess_positions\n",
      "/Measurement_000/Channel_000/Spatially_Averaged_Plot_Group_000\n",
      "/Measurement_000/Channel_000/Spatially_Averaged_Plot_Group_000/Bin_Frequencies\n",
      "/Measurement_000/Channel_000/Spatially_Averaged_Plot_Group_000/Max_Response\n",
      "/Measurement_000/Channel_000/Spatially_Averaged_Plot_Group_000/Mean_Spectrogram\n",
      "/Measurement_000/Channel_000/Spatially_Averaged_Plot_Group_000/Min_Response\n",
      "/Measurement_000/Channel_000/Spatially_Averaged_Plot_Group_000/Spectroscopic_Parameter\n",
      "/Measurement_000/Channel_000/Spatially_Averaged_Plot_Group_000/Step_Averaged_Response\n",
      "/Measurement_000/Channel_000/Spatially_Averaged_Plot_Group_001\n",
      "/Measurement_000/Channel_000/Spatially_Averaged_Plot_Group_001/Bin_Frequencies\n",
      "/Measurement_000/Channel_000/Spatially_Averaged_Plot_Group_001/Max_Response\n",
      "/Measurement_000/Channel_000/Spatially_Averaged_Plot_Group_001/Mean_Spectrogram\n",
      "/Measurement_000/Channel_000/Spatially_Averaged_Plot_Group_001/Min_Response\n",
      "/Measurement_000/Channel_000/Spatially_Averaged_Plot_Group_001/Spectroscopic_Parameter\n",
      "/Measurement_000/Channel_000/Spatially_Averaged_Plot_Group_001/Step_Averaged_Response\n",
      "/Measurement_000/Channel_000/Spectroscopic_Indices\n",
      "/Measurement_000/Channel_000/Spectroscopic_Values\n",
      "/Measurement_000/Channel_000/UDVS\n",
      "/Measurement_000/Channel_000/UDVS_Indices\n",
      "\n",
      "The main dataset:\n",
      "------------------------------------\n",
      "<HDF5 file \"data_file_init_4.0.h5\" (mode r+)>\n",
      "\n",
      "The ancillary datasets:\n",
      "------------------------------------\n",
      "<HDF5 dataset \"Position_Indices\": shape (3600, 2), type \"<u4\">\n",
      "<HDF5 dataset \"Position_Values\": shape (3600, 2), type \"<f4\">\n",
      "<HDF5 dataset \"Spectroscopic_Indices\": shape (4, 63360), type \"<u4\">\n",
      "<HDF5 dataset \"Spectroscopic_Values\": shape (4, 63360), type \"<f4\">\n",
      "\n",
      "Metadata or attributes in a datagroup\n",
      "------------------------------------\n",
      "BE_actual_duration_[s] : 0.004\n",
      "BE_amplitude_[V] : 1\n",
      "BE_auto_smoothing : auto smoothing on\n",
      "BE_band_edge_smoothing_[s] : 4832.1\n",
      "BE_band_edge_trim : 0.094742\n",
      "BE_band_width_[Hz] : 200000\n",
      "BE_bins_per_band : 0\n",
      "BE_center_frequency_[Hz] : 1310000\n",
      "BE_desired_duration_[s] : 0.004\n",
      "BE_phase_content : chirp-sinc hybrid\n",
      "BE_phase_variation : 1\n",
      "BE_points_per_BE_wave : 0\n",
      "BE_repeats : 4\n",
      "FORC_V_high1_[V] : 1\n",
      "FORC_V_high2_[V] : 10\n",
      "FORC_V_low1_[V] : -1\n",
      "FORC_V_low2_[V] : -10\n",
      "FORC_num_of_FORC_cycles : 1\n",
      "FORC_num_of_FORC_repeats : 1\n",
      "File_MDAQ_version : MDAQ_VS_090915_01\n",
      "File_date_and_time : 18-Sep-2015 18:32:14\n",
      "File_file_name : SP128_NSO\n",
      "File_file_path : C:\\Users\\Asylum User\\Documents\\Users\\Agar\\SP128_NSO\\\n",
      "File_file_suffix : 99\n",
      "IO_AO_amplifier : 10\n",
      "IO_AO_range_[V] : +/- 10\n",
      "IO_Analog_Input_1 : +/- .1V, FFT\n",
      "IO_Analog_Input_2 : off\n",
      "IO_Analog_Input_3 : off\n",
      "IO_Analog_Input_4 : off\n",
      "IO_DAQ_platform : NI 6115\n",
      "IO_rate_[Hz] : 4000000\n",
      "VS_amplitude_[V] : 16\n",
      "VS_cycle_fraction : full\n",
      "VS_cycle_phase_shift : 0\n",
      "VS_measure_in_field_loops : in and out-of-field\n",
      "VS_mode : DC modulation mode\n",
      "VS_number_of_cycles : 2\n",
      "VS_offset_[V] : 0\n",
      "VS_read_voltage_[V] : 0\n",
      "VS_set_pulse_amplitude[V] : 0\n",
      "VS_set_pulse_duration[s] : 0.002\n",
      "VS_step_edge_smoothing_[s] : 0.001\n",
      "VS_steps_per_full_cycle : 96\n",
      "data_type : BEPSData\n",
      "grid_/single : grid\n",
      "grid_contact_set_point_[V] : 1\n",
      "grid_current_col : 1\n",
      "grid_current_row : 1\n",
      "grid_cycle_time_[s] : 10\n",
      "grid_measuring : 0\n",
      "grid_moving : 0\n",
      "grid_num_cols : 60\n",
      "grid_num_rows : 60\n",
      "grid_settle_time_[s] : 0.15\n",
      "grid_time_remaining_[h;m;s] : 10\n",
      "grid_total_time_[h;m;s] : 10\n",
      "grid_transit_set_point_[V] : 0.1\n",
      "grid_transit_time_[s] : 0.15\n",
      "num_bins : 165\n",
      "num_pix : 3600\n",
      "num_udvs_steps : 384\n"
     ]
    }
   ],
   "source": [
    "print('Datasets and datagroups within the file:\\n------------------------------------')\n",
    "print_tree(h5_f_init.file)\n",
    " \n",
    "print('\\nThe main dataset:\\n------------------------------------')\n",
    "print(h5_f_init)\n",
    "print('\\nThe ancillary datasets:\\n------------------------------------')\n",
    "print(h5_f_init.file['/Measurement_000/Channel_000/Position_Indices'])\n",
    "print(h5_f_init.file['/Measurement_000/Channel_000/Position_Values'])\n",
    "print(h5_f_init.file['/Measurement_000/Channel_000/Spectroscopic_Indices'])\n",
    "print(h5_f_init.file['/Measurement_000/Channel_000/Spectroscopic_Values'])\n",
    "\n",
    "print('\\nMetadata or attributes in a datagroup\\n------------------------------------')\n",
    "for key in h5_f_init.file['/Measurement_000'].attrs:\n",
    "    print('{} : {}'.format(key, h5_f_init.file['/Measurement_000'].attrs[key]))"
   ]
  },
  {
   "cell_type": "code",
   "execution_count": 20,
   "id": "6613ed4c",
   "metadata": {},
   "outputs": [],
   "source": [
    "metadata = {}\n",
    "for key in h5_f_init.file['/Measurement_000'].attrs:\n",
    "    if type(h5_f_init.file['/Measurement_000'].attrs[key]) is np.int64:\n",
    "        metadata[key] = int(h5_f_init.file['/Measurement_000'].attrs[key])\n",
    "    else:\n",
    "        metadata[key] = h5_f_init.file['/Measurement_000'].attrs[key]"
   ]
  },
  {
   "cell_type": "code",
   "execution_count": 21,
   "id": "18857a0f",
   "metadata": {},
   "outputs": [
    {
     "data": {
      "text/plain": [
       "{'BE_actual_duration_[s]': 0.004,\n",
       " 'BE_amplitude_[V]': 1,\n",
       " 'BE_auto_smoothing': 'auto smoothing on',\n",
       " 'BE_band_edge_smoothing_[s]': 4832.1,\n",
       " 'BE_band_edge_trim': 0.094742,\n",
       " 'BE_band_width_[Hz]': 200000,\n",
       " 'BE_bins_per_band': 0,\n",
       " 'BE_center_frequency_[Hz]': 1310000,\n",
       " 'BE_desired_duration_[s]': 0.004,\n",
       " 'BE_phase_content': 'chirp-sinc hybrid',\n",
       " 'BE_phase_variation': 1,\n",
       " 'BE_points_per_BE_wave': 0,\n",
       " 'BE_repeats': 4,\n",
       " 'FORC_V_high1_[V]': 1,\n",
       " 'FORC_V_high2_[V]': 10,\n",
       " 'FORC_V_low1_[V]': -1,\n",
       " 'FORC_V_low2_[V]': -10,\n",
       " 'FORC_num_of_FORC_cycles': 1,\n",
       " 'FORC_num_of_FORC_repeats': 1,\n",
       " 'File_MDAQ_version': 'MDAQ_VS_090915_01',\n",
       " 'File_date_and_time': '18-Sep-2015 18:32:14',\n",
       " 'File_file_name': 'SP128_NSO',\n",
       " 'File_file_path': 'C:\\\\Users\\\\Asylum User\\\\Documents\\\\Users\\\\Agar\\\\SP128_NSO\\\\',\n",
       " 'File_file_suffix': 99,\n",
       " 'IO_AO_amplifier': 10,\n",
       " 'IO_AO_range_[V]': '+/- 10',\n",
       " 'IO_Analog_Input_1': '+/- .1V, FFT',\n",
       " 'IO_Analog_Input_2': 'off',\n",
       " 'IO_Analog_Input_3': 'off',\n",
       " 'IO_Analog_Input_4': 'off',\n",
       " 'IO_DAQ_platform': 'NI 6115',\n",
       " 'IO_rate_[Hz]': 4000000,\n",
       " 'VS_amplitude_[V]': 16,\n",
       " 'VS_cycle_fraction': 'full',\n",
       " 'VS_cycle_phase_shift': 0,\n",
       " 'VS_measure_in_field_loops': 'in and out-of-field',\n",
       " 'VS_mode': 'DC modulation mode',\n",
       " 'VS_number_of_cycles': 2,\n",
       " 'VS_offset_[V]': 0,\n",
       " 'VS_read_voltage_[V]': 0,\n",
       " 'VS_set_pulse_amplitude[V]': 0,\n",
       " 'VS_set_pulse_duration[s]': 0.002,\n",
       " 'VS_step_edge_smoothing_[s]': 0.001,\n",
       " 'VS_steps_per_full_cycle': 96,\n",
       " 'data_type': 'BEPSData',\n",
       " 'grid_/single': 'grid',\n",
       " 'grid_contact_set_point_[V]': 1,\n",
       " 'grid_current_col': 1,\n",
       " 'grid_current_row': 1,\n",
       " 'grid_cycle_time_[s]': 10,\n",
       " 'grid_measuring': 0,\n",
       " 'grid_moving': 0,\n",
       " 'grid_num_cols': 60,\n",
       " 'grid_num_rows': 60,\n",
       " 'grid_settle_time_[s]': 0.15,\n",
       " 'grid_time_remaining_[h;m;s]': 10,\n",
       " 'grid_total_time_[h;m;s]': 10,\n",
       " 'grid_transit_set_point_[V]': 0.1,\n",
       " 'grid_transit_time_[s]': 0.15,\n",
       " 'num_bins': 165,\n",
       " 'num_pix': 3600,\n",
       " 'num_udvs_steps': 384}"
      ]
     },
     "execution_count": 21,
     "metadata": {},
     "output_type": "execute_result"
    }
   ],
   "source": [
    "metadata"
   ]
  },
  {
   "cell_type": "code",
   "execution_count": 22,
   "id": "79c196bc",
   "metadata": {
    "id": "NyxiBxNNXMs8"
   },
   "outputs": [],
   "source": [
    "# This sets the cores for computing the conventional fits.\n",
    "# Data included has been fit with this method. \n",
    "\n",
    "# Maximum memory to use, in Mbs. Default = 1024\n",
    "max_mem = 1024 * 20 \n",
    "\n",
    "# Number of logical cores to use in fitting.  None uses all but 2 available cores.\n",
    "max_cores = None \n",
    "\n",
    "# Note that if you set this to True, visualization is unlikely to work!\n",
    "results_to_new_file = False"
   ]
  },
  {
   "cell_type": "markdown",
   "id": "dc4d276e",
   "metadata": {
    "id": "2z2fWl_hPcq1"
   },
   "source": [
    "# Part I. SHO Fitter"
   ]
  },
  {
   "cell_type": "markdown",
   "id": "77cf74db",
   "metadata": {
    "id": "p4gQ0b2rn4kI"
   },
   "source": [
    "## Extracting Constants"
   ]
  },
  {
   "cell_type": "code",
   "execution_count": 23,
   "id": "d8177dbf",
   "metadata": {
    "id": "Z-6EgZqZn3dg"
   },
   "outputs": [],
   "source": [
    "# number of samples per SHO fit\n",
    "num_bins = h5_f_init['Measurement_000'].attrs['num_bins'] \n",
    "\n",
    "# number of pixels in the image\n",
    "num_pix = h5_f_init['Measurement_000'].attrs['num_pix'] \n",
    "\n",
    "# number of pixels in x and y dimensions\n",
    "num_pix_1d = int(np.sqrt(num_pix)) \n",
    "\n",
    "# number of DC voltage steps \n",
    "voltage_steps = h5_f_init['Measurement_000'].attrs['num_udvs_steps']\n",
    "\n",
    "# sampling rate\n",
    "sampling_rate = h5_f_init['Measurement_000'].attrs['IO_rate_[Hz]']\n",
    "\n",
    "# BE bandwidth\n",
    "be_bandwidth = h5_f_init['Measurement_000'].attrs['BE_band_width_[Hz]']\n",
    "\n",
    "# BE center frequency\n",
    "be_center_frequency = h5_f_init['Measurement_000'].attrs['BE_center_frequency_[Hz]']\n",
    "\n",
    "# Frequency Vector in Hz\n",
    "frequency_bin = h5_f_init['Measurement_000']['Channel_000']['Bin_Frequencies'][:]\n",
    "\n",
    "# Resampled frequency vector\n",
    "wvec_freq = resample(frequency_bin, 80)"
   ]
  },
  {
   "cell_type": "code",
   "execution_count": 24,
   "id": "c5c43706",
   "metadata": {
    "id": "N1lWNU9CAl11"
   },
   "outputs": [],
   "source": [
    "# get raw data (real and imaginary combined)\n",
    "raw_data = h5_f_init['Measurement_000']['Channel_000']['Raw_Data']\n",
    "raw_data_resampled = resample(np.array(raw_data).reshape(-1 , 165), 80, axis=1)"
   ]
  },
  {
   "cell_type": "code",
   "execution_count": 25,
   "id": "b639a086",
   "metadata": {
    "id": "yULSaZnyREWD"
   },
   "outputs": [],
   "source": [
    "# extracting the excitation waveform\n",
    "be_waveform = h5_f_init['Measurement_000']['Channel_000']['Excitation_Waveform']\n",
    "\n",
    "# extracting spectroscopic values\n",
    "spectroscopic_values = h5_f_init['Measurement_000']['Channel_000']['Spectroscopic_Values']"
   ]
  },
  {
   "cell_type": "markdown",
   "id": "5ec8fe6e",
   "metadata": {},
   "source": [
    "### Adding Noise 4.0"
   ]
  },
  {
   "cell_type": "code",
   "execution_count": 26,
   "id": "4b9e358a",
   "metadata": {},
   "outputs": [],
   "source": [
    "lowest_noise_real = -1.0 * 0.0026878386\n",
    "highest_noise_real = 1.0 * 0.0026878386\n",
    "lowest_noise_imag = -1.0 * 0.0027575183\n",
    "highest_noise_imag = 1.0 * 0.0027575183"
   ]
  },
  {
   "cell_type": "code",
   "execution_count": 27,
   "id": "2161dbf6",
   "metadata": {},
   "outputs": [],
   "source": [
    "noise_real = np.random.uniform(lowest_noise_real, highest_noise_real, (3600, 63360))\n",
    "noise_imag = np.random.uniform(lowest_noise_imag, highest_noise_imag, (3600, 63360))"
   ]
  },
  {
   "cell_type": "code",
   "execution_count": 28,
   "id": "fff571dc",
   "metadata": {},
   "outputs": [],
   "source": [
    "noise = noise_real+noise_imag*1.0j"
   ]
  },
  {
   "cell_type": "code",
   "execution_count": 29,
   "id": "55c938b4",
   "metadata": {},
   "outputs": [],
   "source": [
    "h5_f = h5py.File('./data_file_noise_4.0.h5', 'r+')"
   ]
  },
  {
   "cell_type": "code",
   "execution_count": 30,
   "id": "dbb26a06",
   "metadata": {},
   "outputs": [],
   "source": [
    "raw_data = h5_f['Measurement_000']['Channel_000']['Raw_Data']\n",
    "\n",
    "for pixel_ind, pixel_data in enumerate(raw_data):\n",
    "    raw_data[pixel_ind] += noise[pixel_ind] * 4.0"
   ]
  },
  {
   "cell_type": "code",
   "execution_count": 31,
   "id": "ae5b0c70",
   "metadata": {},
   "outputs": [],
   "source": [
    "raw_data_noise_1_reshaped = np.reshape(raw_data, (-1, 165))"
   ]
  },
  {
   "cell_type": "code",
   "execution_count": 32,
   "id": "9f164522",
   "metadata": {},
   "outputs": [],
   "source": [
    "raw_data_reshaped = np.reshape(h5_f['Measurement_000']['Channel_000']['Raw_Data'], (-1, 165))"
   ]
  },
  {
   "cell_type": "code",
   "execution_count": 33,
   "id": "ada3d637",
   "metadata": {},
   "outputs": [
    {
     "data": {
      "text/plain": [
       "(1382400, 165)"
      ]
     },
     "execution_count": 33,
     "metadata": {},
     "output_type": "execute_result"
    }
   ],
   "source": [
    "raw_data_noise_1_reshaped.shape"
   ]
  },
  {
   "cell_type": "code",
   "execution_count": 34,
   "id": "437e20cf",
   "metadata": {},
   "outputs": [
    {
     "data": {
      "text/plain": [
       "[<matplotlib.lines.Line2D at 0x7f906a21c9a0>]"
      ]
     },
     "execution_count": 34,
     "metadata": {},
     "output_type": "execute_result"
    },
    {
     "data": {
      "image/png": "[encoded data removed]",
      "text/plain": [
       "<Figure size 432x288 with 1 Axes>"
      ]
     },
     "metadata": {
      "needs_background": "light"
     },
     "output_type": "display_data"
    }
   ],
   "source": [
    "i = np.random.randint(0, raw_data_noise_1_reshaped.shape[0])\n",
    "\n",
    "plt.plot(frequency_bin, np.real(raw_data_noise_1_reshaped[i, :]))\n",
    "plt.plot(frequency_bin, np.imag(raw_data_noise_1_reshaped[i, :]))\n",
    "\n",
    "plt.plot(frequency_bin, np.real(raw_data_reshaped[i, :]), 'o')\n",
    "plt.plot(frequency_bin, np.imag(raw_data_reshaped[i, :]), 'o')"
   ]
  },
  {
   "cell_type": "markdown",
   "id": "8672eca1",
   "metadata": {},
   "source": [
    "## LSQF Initial"
   ]
  },
  {
   "cell_type": "code",
   "execution_count": 34,
   "id": "6975bf83",
   "metadata": {},
   "outputs": [
    {
     "name": "stdout",
     "output_type": "stream",
     "text": [
      "Working on:\n",
      "data_file_init_4.0.h5\n",
      "['Y', 'X'] [60, 60]\n",
      "\n",
      "\n",
      "SHO Fits will be written to:\n",
      "data_file_init_4.0_sho_fit.h5\n",
      "\n",
      "\n",
      "Consider calling test() to check results before calling compute() which computes on the entire dataset and writes results to the HDF5 file\n",
      "\tThis class (likely) supports interruption and resuming of computations!\n",
      "\tIf you are operating in a python console, press Ctrl+C or Cmd+C to abort\n",
      "\tIf you are in a Jupyter notebook, click on \"Kernel\">>\"Interrupt\"\n",
      "\tIf you are operating on a cluster and your job gets killed, re-run the job to resume\n",
      "\n",
      "Rank 0 finished parallel computation\n",
      "Rank 0 - 15% complete. Time remaining: 6.02 mins\n",
      "Rank 0 finished parallel computation\n",
      "Rank 0 - 31% complete. Time remaining: 4.89 mins\n",
      "Rank 0 finished parallel computation\n",
      "Rank 0 - 47% complete. Time remaining: 3.77 mins\n",
      "Rank 0 finished parallel computation\n",
      "Rank 0 - 62% complete. Time remaining: 2.65 mins\n",
      "Rank 0 finished parallel computation\n",
      "Rank 0 - 78% complete. Time remaining: 1.54 mins\n",
      "Rank 0 finished parallel computation\n",
      "Rank 0 - 94% complete. Time remaining: 25.52 sec\n",
      "Rank 0 finished parallel computation\n",
      "Rank 0 - 100% complete. Time remaining: 0.0 msec\n",
      "Finished processing the entire dataset!\n",
      "\n",
      "Note: SHO_Fit has already been performed with the same parameters before. These results will be returned by compute() by default. Set override to True to force fresh computation\n",
      "\n",
      "[<HDF5 group \"/Raw_Data-SHO_Fit_000\" (6 members)>]\n",
      "Resuming computation. 0% completed already\n",
      "\tThis class (likely) supports interruption and resuming of computations!\n",
      "\tIf you are operating in a python console, press Ctrl+C or Cmd+C to abort\n",
      "\tIf you are in a Jupyter notebook, click on \"Kernel\">>\"Interrupt\"\n",
      "\tIf you are operating on a cluster and your job gets killed, re-run the job to resume\n",
      "\n",
      "Rank 0 - 13% complete. Time remaining: 4.05 mins\n",
      "Rank 0 - 26% complete. Time remaining: 2.82 mins\n",
      "Rank 0 - 40% complete. Time remaining: 2.13 mins\n",
      "Rank 0 - 53% complete. Time remaining: 1.64 mins\n",
      "Rank 0 - 67% complete. Time remaining: 1.14 mins\n",
      "Rank 0 - 80% complete. Time remaining: 36.3 sec\n",
      "Rank 0 - 94% complete. Time remaining: 11.14 sec\n",
      "Rank 0 - 100% complete. Time remaining: 0.0 msec\n",
      "Finished processing the entire dataset!\n",
      "LSQF method took 689.6979653835297 seconds to compute parameters\n"
     ]
    }
   ],
   "source": [
    "# start_time_lsqf = time.time()\n",
    "\n",
    "# input_file_path = 'data_file_init_4.0.h5'\n",
    "\n",
    "# (data_dir, filename) = os.path.split(input_file_path)\n",
    "\n",
    "# if input_file_path.endswith('.h5'):\n",
    "#     # No translation here\n",
    "#     h5_path = input_file_path\n",
    "#     force = True # Set this to true to force patching of the datafile.\n",
    "#     tl = belib.translators.LabViewH5Patcher()\n",
    "#     tl.translate(h5_path, force_patch=force)\n",
    "# else:\n",
    "#     # Set the data to be translated\n",
    "#     data_path = input_file_path\n",
    "\n",
    "#     (junk, base_name) = os.path.split(data_dir)\n",
    "\n",
    "#     # Check if the data is in the new or old format.  Initialize the correct translator for the format.\n",
    "#     if base_name == 'newdataformat':\n",
    "#         (junk, base_name) = os.path.split(junk)\n",
    "#         translator = px.io.translators.BEPSndfTranslator(max_mem_mb=max_mem)\n",
    "#     else:\n",
    "#         translator = px.io.translators.BEodfTranslator(max_mem_mb=max_mem)\n",
    "#     if base_name.endswith('_d'):\n",
    "#         base_name = base_name[:-2]\n",
    "#     # Translate the data\n",
    "#     h5_path = translator.translate(data_path, show_plots=True, save_plots=False)\n",
    "\n",
    "# folder_path, h5_raw_file_name = os.path.split(h5_path)\n",
    "# h5_file = h5py.File(h5_path, 'r+')\n",
    "# print('Working on:\\n' + h5_path)\n",
    "\n",
    "# h5_main = usid.hdf_utils.find_dataset(h5_file, 'Raw_Data')[0]\n",
    "\n",
    "# h5_pos_inds = h5_main.h5_pos_inds\n",
    "# pos_dims = h5_main.pos_dim_sizes\n",
    "# pos_labels = h5_main.pos_dim_labels\n",
    "# print(pos_labels, pos_dims)\n",
    "\n",
    "# h5_meas_grp = h5_main.parent.parent\n",
    "\n",
    "# parm_dict = sidpy.hdf_utils.get_attributes(h5_meas_grp)\n",
    "\n",
    "# expt_type = usid.hdf_utils.get_attr(h5_file, 'data_type')\n",
    "\n",
    "# is_ckpfm = expt_type == 'cKPFMData'\n",
    "# if is_ckpfm:\n",
    "#     num_write_steps = parm_dict['VS_num_DC_write_steps']\n",
    "#     num_read_steps = parm_dict['VS_num_read_steps']\n",
    "#     num_fields = 2\n",
    "    \n",
    "# if expt_type != 'BELineData':\n",
    "#     vs_mode = usid.hdf_utils.get_attr(h5_meas_grp, 'VS_mode')\n",
    "#     try:\n",
    "#         field_mode = usid.hdf_utils.get_attr(h5_meas_grp, 'VS_measure_in_field_loops')\n",
    "#     except KeyError:\n",
    "#         print('field mode could not be found. Setting to default value')\n",
    "#         field_mode = 'out-of-field'\n",
    "#     try:\n",
    "#         vs_cycle_frac = usid.hdf_utils.get_attr(h5_meas_grp, 'VS_cycle_fraction')\n",
    "#     except KeyError:\n",
    "#         print('VS cycle fraction could not be found. Setting to default value')\n",
    "#         vs_cycle_frac = 'full'\n",
    "\n",
    "# sho_fit_points = 5  # The number of data points at each step to use when fitting\n",
    "# sho_override = True  # Force recompute if True\n",
    "\n",
    "# max_cores = 10\n",
    "\n",
    "# h5_sho_targ_grp = None\n",
    "# if True:\n",
    "#     h5_sho_file_path = os.path.join(folder_path, \n",
    "#                                 h5_raw_file_name.replace('.h5', '_sho_fit.h5'))\n",
    "#     print('\\n\\nSHO Fits will be written to:\\n' + h5_sho_file_path + '\\n\\n')\n",
    "#     f_open_mode = 'w'\n",
    "#     if os.path.exists(h5_sho_file_path):\n",
    "#         f_open_mode = 'r+'\n",
    "#     h5_sho_file = h5py.File(h5_sho_file_path, mode=f_open_mode)\n",
    "#     h5_sho_targ_grp = h5_sho_file\n",
    "    \n",
    "# sho_fitter = belib.analysis.BESHOfitter(h5_main, cores=max_cores, verbose=False, h5_target_group=h5_sho_targ_grp)\n",
    "# sho_fitter.set_up_guess(guess_func=belib.analysis.be_sho_fitter.SHOGuessFunc.complex_gaussian,\n",
    "#                         num_points=sho_fit_points)\n",
    "# h5_sho_guess = sho_fitter.do_guess(override=sho_override)\n",
    "# sho_fitter.set_up_fit()\n",
    "# h5_sho_fit = sho_fitter.do_fit(override=sho_override)\n",
    "# parms_dict = parms_dict = sidpy.hdf_utils.get_attributes(h5_main.parent.parent)\n",
    "\n",
    "# print(f'LSQF method took {time.time() - start_time_lsqf} seconds to compute parameters')"
   ]
  },
  {
   "cell_type": "markdown",
   "id": "28c46d5d",
   "metadata": {},
   "source": [
    "## LSQF on noisy data 4.0"
   ]
  },
  {
   "cell_type": "code",
   "execution_count": 35,
   "id": "50eb79e9",
   "metadata": {},
   "outputs": [
    {
     "name": "stdout",
     "output_type": "stream",
     "text": [
      "Working on:\n",
      "data_file_noise_4.0.h5\n",
      "['Y', 'X'] [60, 60]\n",
      "\n",
      "\n",
      "SHO Fits will be written to:\n",
      "data_file_noise_4.0_sho_fit.h5\n",
      "\n",
      "\n",
      "Consider calling test() to check results before calling compute() which computes on the entire dataset and writes results to the HDF5 file\n",
      "\tThis class (likely) supports interruption and resuming of computations!\n",
      "\tIf you are operating in a python console, press Ctrl+C or Cmd+C to abort\n",
      "\tIf you are in a Jupyter notebook, click on \"Kernel\">>\"Interrupt\"\n",
      "\tIf you are operating on a cluster and your job gets killed, re-run the job to resume\n",
      "\n",
      "Rank 0 finished parallel computation\n",
      "Rank 0 - 15% complete. Time remaining: 5.98 mins\n",
      "Rank 0 finished parallel computation\n",
      "Rank 0 - 31% complete. Time remaining: 4.87 mins\n",
      "Rank 0 finished parallel computation\n",
      "Rank 0 - 47% complete. Time remaining: 3.78 mins\n",
      "Rank 0 finished parallel computation\n",
      "Rank 0 - 62% complete. Time remaining: 2.66 mins\n",
      "Rank 0 finished parallel computation\n",
      "Rank 0 - 78% complete. Time remaining: 1.55 mins\n",
      "Rank 0 finished parallel computation\n",
      "Rank 0 - 94% complete. Time remaining: 25.73 sec\n",
      "Rank 0 finished parallel computation\n",
      "Rank 0 - 100% complete. Time remaining: 0.0 msec\n",
      "Finished processing the entire dataset!\n",
      "\n",
      "Note: SHO_Fit has already been performed with the same parameters before. These results will be returned by compute() by default. Set override to True to force fresh computation\n",
      "\n",
      "[<HDF5 group \"/Raw_Data-SHO_Fit_000\" (6 members)>]\n",
      "Resuming computation. 0% completed already\n",
      "\tThis class (likely) supports interruption and resuming of computations!\n",
      "\tIf you are operating in a python console, press Ctrl+C or Cmd+C to abort\n",
      "\tIf you are in a Jupyter notebook, click on \"Kernel\">>\"Interrupt\"\n",
      "\tIf you are operating on a cluster and your job gets killed, re-run the job to resume\n",
      "\n",
      "Rank 0 - 13% complete. Time remaining: 4.0 mins\n",
      "Rank 0 - 26% complete. Time remaining: 2.83 mins\n",
      "Rank 0 - 40% complete. Time remaining: 2.2 mins\n",
      "Rank 0 - 53% complete. Time remaining: 1.66 mins\n",
      "Rank 0 - 67% complete. Time remaining: 1.17 mins\n",
      "Rank 0 - 80% complete. Time remaining: 38.47 sec\n",
      "Rank 0 - 94% complete. Time remaining: 11.87 sec\n",
      "Rank 0 - 100% complete. Time remaining: 0.0 msec\n",
      "Finished processing the entire dataset!\n",
      "LSQF method took 679.9900929927826 seconds to compute parameters\n"
     ]
    }
   ],
   "source": [
    "start_time_lsqf = time.time()\n",
    "\n",
    "input_file_path = 'data_file_noise_4.0.h5'\n",
    "\n",
    "(data_dir, filename) = os.path.split(input_file_path)\n",
    "\n",
    "if input_file_path.endswith('.h5'):\n",
    "    # No translation here\n",
    "    h5_path = input_file_path\n",
    "    force = True # Set this to true to force patching of the datafile.\n",
    "    tl = belib.translators.LabViewH5Patcher()\n",
    "    tl.translate(h5_path, force_patch=force)\n",
    "else:\n",
    "    # Set the data to be translated\n",
    "    data_path = input_file_path\n",
    "\n",
    "    (junk, base_name) = os.path.split(data_dir)\n",
    "\n",
    "    # Check if the data is in the new or old format.  Initialize the correct translator for the format.\n",
    "    if base_name == 'newdataformat':\n",
    "        (junk, base_name) = os.path.split(junk)\n",
    "        translator = px.io.translators.BEPSndfTranslator(max_mem_mb=max_mem)\n",
    "    else:\n",
    "        translator = px.io.translators.BEodfTranslator(max_mem_mb=max_mem)\n",
    "    if base_name.endswith('_d'):\n",
    "        base_name = base_name[:-2]\n",
    "    # Translate the data\n",
    "    h5_path = translator.translate(data_path, show_plots=True, save_plots=False)\n",
    "\n",
    "folder_path, h5_raw_file_name = os.path.split(h5_path)\n",
    "h5_file = h5py.File(h5_path, 'r+')\n",
    "print('Working on:\\n' + h5_path)\n",
    "\n",
    "h5_main = usid.hdf_utils.find_dataset(h5_file, 'Raw_Data')[0]\n",
    "\n",
    "h5_pos_inds = h5_main.h5_pos_inds\n",
    "pos_dims = h5_main.pos_dim_sizes\n",
    "pos_labels = h5_main.pos_dim_labels\n",
    "print(pos_labels, pos_dims)\n",
    "\n",
    "h5_meas_grp = h5_main.parent.parent\n",
    "\n",
    "parm_dict = sidpy.hdf_utils.get_attributes(h5_meas_grp)\n",
    "\n",
    "expt_type = usid.hdf_utils.get_attr(h5_file, 'data_type')\n",
    "\n",
    "is_ckpfm = expt_type == 'cKPFMData'\n",
    "if is_ckpfm:\n",
    "    num_write_steps = parm_dict['VS_num_DC_write_steps']\n",
    "    num_read_steps = parm_dict['VS_num_read_steps']\n",
    "    num_fields = 2\n",
    "    \n",
    "if expt_type != 'BELineData':\n",
    "    vs_mode = usid.hdf_utils.get_attr(h5_meas_grp, 'VS_mode')\n",
    "    try:\n",
    "        field_mode = usid.hdf_utils.get_attr(h5_meas_grp, 'VS_measure_in_field_loops')\n",
    "    except KeyError:\n",
    "        print('field mode could not be found. Setting to default value')\n",
    "        field_mode = 'out-of-field'\n",
    "    try:\n",
    "        vs_cycle_frac = usid.hdf_utils.get_attr(h5_meas_grp, 'VS_cycle_fraction')\n",
    "    except KeyError:\n",
    "        print('VS cycle fraction could not be found. Setting to default value')\n",
    "        vs_cycle_frac = 'full'\n",
    "\n",
    "sho_fit_points = 5  # The number of data points at each step to use when fitting\n",
    "sho_override = True  # Force recompute if True\n",
    "\n",
    "max_cores = 10\n",
    "\n",
    "h5_sho_targ_grp = None\n",
    "if True:\n",
    "    h5_sho_file_path = os.path.join(folder_path, \n",
    "                                h5_raw_file_name.replace('.h5', '_sho_fit.h5'))\n",
    "    print('\\n\\nSHO Fits will be written to:\\n' + h5_sho_file_path + '\\n\\n')\n",
    "    f_open_mode = 'w'\n",
    "    if os.path.exists(h5_sho_file_path):\n",
    "        f_open_mode = 'r+'\n",
    "    h5_sho_file = h5py.File(h5_sho_file_path, mode=f_open_mode)\n",
    "    h5_sho_targ_grp = h5_sho_file\n",
    "    \n",
    "sho_fitter = belib.analysis.BESHOfitter(h5_main, cores=max_cores, verbose=False, h5_target_group=h5_sho_targ_grp)\n",
    "sho_fitter.set_up_guess(guess_func=belib.analysis.be_sho_fitter.SHOGuessFunc.complex_gaussian,\n",
    "                        num_points=sho_fit_points)\n",
    "h5_sho_guess = sho_fitter.do_guess(override=sho_override)\n",
    "sho_fitter.set_up_fit()\n",
    "h5_sho_fit = sho_fitter.do_fit(override=sho_override)\n",
    "parms_dict = parms_dict = sidpy.hdf_utils.get_attributes(h5_main.parent.parent)\n",
    "\n",
    "print(f'LSQF method took {time.time() - start_time_lsqf} seconds to compute parameters')"
   ]
  },
  {
   "cell_type": "code",
   "execution_count": 36,
   "id": "b177fd42",
   "metadata": {},
   "outputs": [],
   "source": [
    "# Opens the translated file\n",
    "h5_f_fit = h5py.File('./data_file_noise_4.0_sho_fit.h5', 'r+')\n",
    "\n",
    "# Opens the translated file\n",
    "h5_f_init_fit = h5py.File('./data_file_init_4.0_sho_fit.h5', 'r+')"
   ]
  },
  {
   "cell_type": "code",
   "execution_count": 37,
   "id": "c780d733",
   "metadata": {
    "id": "66_aumU-OGza"
   },
   "outputs": [],
   "source": [
    "# create a list for parameters\n",
    "fit_results_list = []\n",
    "for sublist in np.array(h5_f_fit['Raw_Data-SHO_Fit_000']['Fit']):\n",
    "    for item in sublist:\n",
    "        for i in item:\n",
    "          fit_results_list.append(i)\n",
    "\n",
    "# flatten parameters list into numpy array\n",
    "fit_results_list = np.array(fit_results_list).reshape(num_pix,voltage_steps,5)"
   ]
  },
  {
   "cell_type": "code",
   "execution_count": 38,
   "id": "444e086f",
   "metadata": {},
   "outputs": [],
   "source": [
    "# create a list for parameters\n",
    "fit_results_list_init = []\n",
    "for sublist in np.array(h5_f_init_fit['Raw_Data-SHO_Fit_000']['Fit']):\n",
    "    for item in sublist:\n",
    "        for i in item:\n",
    "          fit_results_list_init.append(i)\n",
    "\n",
    "# flatten parameters list into numpy array\n",
    "fit_results_list_init = np.array(fit_results_list_init).reshape(num_pix,voltage_steps,5)"
   ]
  },
  {
   "cell_type": "code",
   "execution_count": 39,
   "id": "cdd6bbfd",
   "metadata": {},
   "outputs": [],
   "source": [
    "# scale the fit results with Standard Scaler\n",
    "fit_results_scaler = StandardScaler()\n",
    "scaled_fit_results = fit_results_scaler.fit_transform(fit_results_list_init.reshape(-1,5))"
   ]
  },
  {
   "cell_type": "code",
   "execution_count": 40,
   "id": "dc37895c",
   "metadata": {},
   "outputs": [],
   "source": [
    "# get real and imaginary components from raw data\n",
    "real = np.real(h5_f_init['Measurement_000']['Channel_000']['Raw_Data'])\n",
    "imag = np.imag(h5_f_init['Measurement_000']['Channel_000']['Raw_Data'])\n",
    "\n",
    "# resample both real and imaginary components \n",
    "real_resample = resample(real.reshape(num_pix, -1, num_bins), 80, axis=2)\n",
    "imag_resample = resample(imag.reshape(num_pix, -1, num_bins), 80, axis=2)"
   ]
  },
  {
   "cell_type": "code",
   "execution_count": 41,
   "id": "863b307a",
   "metadata": {},
   "outputs": [
    {
     "name": "stdout",
     "output_type": "stream",
     "text": [
      "mean =  -6.855169e-06 STD =  0.0026878386\n",
      "mean =  0.00013161483 STD =  0.0027575183\n",
      "(1382400, 4)\n"
     ]
    }
   ],
   "source": [
    "# scale the real component of input data\n",
    "scaler_real = global_standard_scaler()\n",
    "scaled_data_real = scaler_real.fit_transform(real_resample).reshape(-1, 80)\n",
    "\n",
    "# scale the imaginary component of input data\n",
    "scaler_imag = global_standard_scaler()\n",
    "scaled_data_imag = scaler_imag.fit_transform(imag_resample).reshape(-1, 80)\n",
    "\n",
    "# stack both components\n",
    "data_ = np.stack((scaled_data_real, scaled_data_imag),axis=2)\n",
    "\n",
    "# scale the parameters (now takes only 4 parameters, excluding the R2)\n",
    "params_scaler = StandardScaler()\n",
    "scaled_params = params_scaler.fit_transform(fit_results_list_init.reshape(-1,5)[:,0:4])\n",
    "\n",
    "# exclude the R2 parameter\n",
    "params = fit_results_list_init.reshape(-1,5)[:,0:4]\n",
    "print(params.shape)\n",
    "\n",
    "del real_resample\n",
    "del imag_resample"
   ]
  },
  {
   "cell_type": "code",
   "execution_count": 42,
   "id": "281871c9",
   "metadata": {},
   "outputs": [],
   "source": [
    "fit_results_list = fit_results_list[:, :, :4]\n",
    "fit_results_list_init = fit_results_list_init[:, :, :4]"
   ]
  },
  {
   "cell_type": "code",
   "execution_count": 43,
   "id": "7989a4d7",
   "metadata": {
    "scrolled": false
   },
   "outputs": [],
   "source": [
    "# # check distrubutions of each parameter before and after scaling\n",
    "# fig, axs = plt.subplots(nrows=4, ncols=2, figsize=(13, 26))\n",
    "\n",
    "# units = ['Amplitude (Arb. U.)', 'Frequency (Hz)', 'Quality Factor (Arb. U.)', 'Phase (rad)']\n",
    "\n",
    "# for i in range(4):\n",
    "#   axs[i, 0].hist(fit_results_list[:,:,i].flatten(), 100)\n",
    "#   axs[i, 1].hist(fit_results_list_init[:,:,i].flatten(), 100)\n",
    "\n",
    "# i = 0\n",
    "# for ax in axs.flat:\n",
    "#     ax.set(xlabel=units[i//2], ylabel='Density')\n",
    "#     i+=1\n",
    "#     ax.ticklabel_format(axis=\"x\", style=\"sci\", scilimits=(0,0))\n",
    "#     ax.set_ylim(0, 250000)\n",
    "\n",
    "# axs[0, 0].set_title(\"Noise\", fontsize=15);\n",
    "# axs[0, 1].set_title(\"Without noise\", fontsize=15);"
   ]
  },
  {
   "cell_type": "markdown",
   "id": "bde096a8",
   "metadata": {},
   "source": [
    "### AdaHessian Predictions"
   ]
  },
  {
   "cell_type": "markdown",
   "id": "5d508ef9",
   "metadata": {},
   "source": [
    "model_AdaHessian_noise1_bs128_0.pt"
   ]
  },
  {
   "cell_type": "code",
   "execution_count": 44,
   "id": "a2372bc9",
   "metadata": {},
   "outputs": [
    {
     "data": {
      "text/plain": [
       "(3600, 63360)"
      ]
     },
     "execution_count": 44,
     "metadata": {},
     "output_type": "execute_result"
    }
   ],
   "source": [
    "h5_f_init['Measurement_000']['Channel_000']['Raw_Data'].shape"
   ]
  },
  {
   "cell_type": "code",
   "execution_count": 45,
   "id": "ab789b98",
   "metadata": {},
   "outputs": [],
   "source": [
    "# noise = np.random.uniform(lowest_noise, highest_noise, (3600, 63360))"
   ]
  },
  {
   "cell_type": "code",
   "execution_count": 46,
   "id": "25036451",
   "metadata": {},
   "outputs": [],
   "source": [
    "# noise = np.random.uniform(-1, 1, (1382400, 80, 2))\n",
    "noise_real = (np.real(noise) - (-6.855169e-06)) / 0.0026878386\n",
    "noise_imag = (np.imag(noise) - (0.00013161483)) / 0.0027575183"
   ]
  },
  {
   "cell_type": "code",
   "execution_count": 47,
   "id": "96aff40f",
   "metadata": {},
   "outputs": [],
   "source": [
    "noise_real = noise_real.reshape(-1, 165)\n",
    "noise_imag = noise_imag.reshape(-1, 165)"
   ]
  },
  {
   "cell_type": "code",
   "execution_count": 48,
   "id": "d4516f60",
   "metadata": {},
   "outputs": [
    {
     "data": {
      "text/plain": [
       "(1382400, 80, 2)"
      ]
     },
     "execution_count": 48,
     "metadata": {},
     "output_type": "execute_result"
    }
   ],
   "source": [
    "data_.shape"
   ]
  },
  {
   "cell_type": "code",
   "execution_count": 49,
   "id": "d619d445",
   "metadata": {},
   "outputs": [
    {
     "data": {
      "text/plain": [
       "(3600, 63360)"
      ]
     },
     "execution_count": 49,
     "metadata": {},
     "output_type": "execute_result"
    }
   ],
   "source": [
    "noise.shape"
   ]
  },
  {
   "cell_type": "code",
   "execution_count": 50,
   "id": "2d8c9805",
   "metadata": {},
   "outputs": [],
   "source": [
    "noise = np.stack((noise_real, noise_imag), axis=2)"
   ]
  },
  {
   "cell_type": "code",
   "execution_count": 51,
   "id": "c14533df",
   "metadata": {},
   "outputs": [],
   "source": [
    "noise = resample(noise, 80, axis=1)"
   ]
  },
  {
   "cell_type": "code",
   "execution_count": 52,
   "id": "9e2a64c3",
   "metadata": {},
   "outputs": [],
   "source": [
    "data_noise = data_ + noise * 4.0"
   ]
  },
  {
   "cell_type": "code",
   "execution_count": 53,
   "id": "2a16e694",
   "metadata": {},
   "outputs": [
    {
     "data": {
      "text/plain": [
       "(1382400, 80, 2)"
      ]
     },
     "execution_count": 53,
     "metadata": {},
     "output_type": "execute_result"
    }
   ],
   "source": [
    "data_noise.shape"
   ]
  },
  {
   "cell_type": "code",
   "execution_count": 54,
   "id": "b5b458e5",
   "metadata": {},
   "outputs": [],
   "source": [
    "class SHO_Model_Pred(nn.Module):\n",
    "        def __init__(self):\n",
    "            super().__init__()\n",
    "\n",
    "          # Input block of 1d convolution\n",
    "            self.hidden_x1 = nn.Sequential(\n",
    "              nn.Conv1d(in_channels=2, out_channels=8, kernel_size=7),\n",
    "              nn.SELU(),\n",
    "              nn.Conv1d(in_channels=8, out_channels=6, kernel_size=7),\n",
    "              nn.SELU(),\n",
    "              nn.Conv1d(in_channels=6, out_channels=4, kernel_size=5),\n",
    "              nn.SELU(),\n",
    "            )\n",
    "\n",
    "          # fully connected block\n",
    "            self.hidden_xfc = nn.Sequential(\n",
    "              nn.Linear(256, 20),\n",
    "              nn.SELU(),\n",
    "              nn.Linear(20, 20),\n",
    "              nn.SELU(),\n",
    "            )\n",
    "\n",
    "          # 2nd block of 1d-conv layers\n",
    "            self.hidden_x2 = nn.Sequential(\n",
    "              nn.MaxPool1d(kernel_size=2),\n",
    "              nn.Conv1d(in_channels=2, out_channels=4, kernel_size=5),\n",
    "              nn.SELU(),\n",
    "              nn.Conv1d(in_channels=4, out_channels=4, kernel_size=5),\n",
    "              nn.SELU(),\n",
    "              nn.Conv1d(in_channels=4, out_channels=4, kernel_size=5),\n",
    "              nn.SELU(),\n",
    "              nn.Conv1d(in_channels=4, out_channels=4, kernel_size=5),\n",
    "              nn.SELU(),\n",
    "              nn.Conv1d(in_channels=4, out_channels=4, kernel_size=5),\n",
    "              nn.SELU(),\n",
    "              nn.Conv1d(in_channels=4, out_channels=4, kernel_size=5),\n",
    "              nn.SELU(),\n",
    "              nn.AvgPool1d(kernel_size=2),\n",
    "              nn.Conv1d(in_channels=4, out_channels=2, kernel_size=3),\n",
    "              nn.SELU(),\n",
    "              nn.AvgPool1d(kernel_size=2),\n",
    "              nn.Conv1d(in_channels=2, out_channels=2, kernel_size=3),\n",
    "              nn.SELU(),\n",
    "              nn.AvgPool1d(kernel_size=2),\n",
    "            )\n",
    "\n",
    "          # Flatten layer\n",
    "            self.flatten_layer = nn.Flatten()\n",
    "\n",
    "          # Final embedding block - Output 4 values - linear\n",
    "            self.hidden_embedding = nn.Sequential(\n",
    "              nn.Linear(26, 16),\n",
    "              nn.SELU(),\n",
    "              nn.Linear(16, 8),\n",
    "              nn.SELU(),\n",
    "              nn.Linear(8, 4),\n",
    "            )\n",
    "\n",
    "        def forward(self, x, n=-1):\n",
    "            x = torch.swapaxes(x, 1, 2) # output shape - samples, (real, imag), frequency\n",
    "            x = self.hidden_x1(x)\n",
    "            xfc = torch.reshape(x, (n, 256)) # batch size, features\n",
    "            xfc = self.hidden_xfc(xfc)\n",
    "            x = torch.reshape(x, (n, 2, 128)) # batch size, (real, imag), timesteps\n",
    "            x = self.hidden_x2(x)\n",
    "            cnn_flat = self.flatten_layer(x)\n",
    "            encoded = torch.cat((cnn_flat, xfc), 1) # merge dense and 1d conv.\n",
    "            embedding = self.hidden_embedding(encoded) # output is 4 parameters\n",
    "\n",
    "            # corrects the scaling of the parameters\n",
    "            unscaled_param = embedding*torch.tensor(params_scaler.var_[0:4]**0.5).cuda() + torch.tensor(params_scaler.mean_[0:4]).cuda()\n",
    "            return unscaled_param"
   ]
  },
  {
   "cell_type": "code",
   "execution_count": 55,
   "id": "117fdfdd",
   "metadata": {},
   "outputs": [],
   "source": [
    "# LOADING PARAMS MODEL\n",
    "batch_size = 128\n",
    "torch.cuda.empty_cache()\n",
    "model_parameters = SHO_Model_Pred().cuda()\n",
    "model_parameters.load_state_dict(torch.load(f'/scratch/alibek_2/Rapid-Fitting-of-BEPFM-and-Hysteresis-Loops-Using-Physics-Constrained-Unsupervised-Neural-Networks/Benchmarking2/Trained Models/SHO/model_AdaHessian_noise4_bs128_1.pt'))\n",
    "\n",
    "# prediction of parameters\n",
    "batch_size = 100000\n",
    "train_dataloader = DataLoader(data_noise, batch_size=batch_size)\n",
    "\n",
    "num_elements = len(train_dataloader.dataset)\n",
    "num_batches = len(train_dataloader)\n",
    "all_pred_params = torch.zeros_like(torch.tensor(params))\n",
    "\n",
    "for i, train_batch in enumerate(train_dataloader):\n",
    "    start = i*batch_size\n",
    "    end = start + batch_size\n",
    "\n",
    "    if i == num_batches - 1:\n",
    "        end = num_elements\n",
    "\n",
    "    pred_batch = model_parameters(train_batch.double().cuda())\n",
    "    all_pred_params[start:end] = pred_batch.cpu().detach()\n",
    "\n",
    "    del pred_batch\n",
    "    del train_batch\n",
    "    torch.cuda.empty_cache()\n",
    "\n",
    "all_pred_params = all_pred_params.cpu().detach().numpy()\n",
    "\n",
    "params_copy = np.copy(params)\n",
    "all_pred_params_copy = np.copy(all_pred_params)\n",
    "\n",
    "all_params_transformed, all_pred_params_transformed = transform_params(params_copy, all_pred_params_copy)\n",
    "\n",
    "all_pred_params_scaled = params_scaler.transform(all_pred_params_transformed)\n",
    "all_params_scaled = params_scaler.transform(all_params_transformed)"
   ]
  },
  {
   "cell_type": "code",
   "execution_count": 56,
   "id": "c9307991",
   "metadata": {},
   "outputs": [],
   "source": [
    "fit_results_list_transformed, _ = transform_params(fit_results_list.reshape(-1, 4), fit_results_list.reshape(-1, 4))"
   ]
  },
  {
   "cell_type": "code",
   "execution_count": 57,
   "id": "508370a5",
   "metadata": {},
   "outputs": [
    {
     "data": {
      "text/plain": [
       "(1382400, 4)"
      ]
     },
     "execution_count": 57,
     "metadata": {},
     "output_type": "execute_result"
    }
   ],
   "source": [
    "all_pred_params_transformed.shape"
   ]
  },
  {
   "cell_type": "code",
   "execution_count": 58,
   "id": "4cf9df6f",
   "metadata": {},
   "outputs": [
    {
     "data": {
      "text/plain": [
       "(3600, 384, 4)"
      ]
     },
     "execution_count": 58,
     "metadata": {},
     "output_type": "execute_result"
    }
   ],
   "source": [
    "fit_results_list.shape"
   ]
  },
  {
   "cell_type": "code",
   "execution_count": 59,
   "id": "835b13e8",
   "metadata": {},
   "outputs": [
    {
     "data": {
      "image/png": "[encoded data removed]",
      "text/plain": [
       "<Figure size 1440x1872 with 12 Axes>"
      ]
     },
     "metadata": {
      "needs_background": "light"
     },
     "output_type": "display_data"
    }
   ],
   "source": [
    "# check distrubutions of each parameter before and after scaling\n",
    "fig, axs = plt.subplots(nrows=4, ncols=3, figsize=(20, 26))\n",
    "\n",
    "units = ['Amplitude (Arb. U.)', 'Frequency (Hz)', 'Quality Factor (Arb. U.)', 'Phase (rad)']\n",
    "\n",
    "for i in range(4):\n",
    "  axs[i, 0].hist(fit_results_list_transformed[:,i].flatten(), 100)\n",
    "#   axs[i, 0].hist(fit_results_list_noise_3[:,:,i].flatten(), 100)\n",
    "  axs[i, 1].hist(all_pred_params_transformed[:,i].flatten(), 100)\n",
    "  axs[i, 2].hist(all_params_transformed[:,i].flatten(), 100)\n",
    "#   axs[i, 2].hist(fit_results_list_init[:,:,i].flatten(), 100)\n",
    "\n",
    "i = 0\n",
    "for ax in axs.flat:\n",
    "    ax.set(xlabel=units[i//3], ylabel='Density')\n",
    "    i+=1\n",
    "    ax.ticklabel_format(axis=\"x\", style=\"sci\", scilimits=(0,0))\n",
    "#     ax.set_ylim(0, 1500000)\n",
    "\n",
    "axs[0, 0].set_title(\"Noise LSQF\", fontsize=15);\n",
    "axs[0, 1].set_title(\"Noise NN\", fontsize=15);\n",
    "axs[0, 2].set_title(\"Without noise\", fontsize=15);\n",
    "\n",
    "x_min = [-0.1e-3, 1.24e6, -6e2, -3.5]\n",
    "x_max = [0.3e-3, 1.36e6, 4e2, 3.5]\n",
    "y_max = [1.5e6, 0.8e6, 0.8e6, 0.3e6]\n",
    "\n",
    "for j in range(4):\n",
    "    axs[j, 0].set_xlim(x_min[j], x_max[j])\n",
    "    axs[j, 1].set_xlim(x_min[j], x_max[j])\n",
    "    axs[j, 2].set_xlim(x_min[j], x_max[j])\n",
    "    axs[j, 0].set_ylim(0, y_max[j])\n",
    "    axs[j, 1].set_ylim(0, y_max[j])\n",
    "    axs[j, 2].set_ylim(0, y_max[j])\n",
    "    \n",
    "plt.savefig('comparison_noise_4.0.png')"
   ]
  },
  {
   "cell_type": "markdown",
   "id": "b5a58014",
   "metadata": {},
   "source": [
    "## Cmaps"
   ]
  },
  {
   "cell_type": "code",
   "execution_count": 56,
   "id": "53ac1fd6",
   "metadata": {},
   "outputs": [],
   "source": [
    "import seaborn as sns"
   ]
  },
  {
   "cell_type": "code",
   "execution_count": 57,
   "id": "ccf7166e",
   "metadata": {},
   "outputs": [],
   "source": [
    "sns.reset_orig()\n",
    "plt.rcParams['image.cmap'] = 'magma'\n",
    "plt.rcParams['axes.labelsize'] = 14\n",
    "plt.rcParams['xtick.direction'] = 'in'\n",
    "plt.rcParams['ytick.direction'] = 'in'\n",
    "plt.rcParams['xtick.top'] = True\n",
    "plt.rcParams['ytick.right'] = True\n",
    "video_duration = 10\n",
    "if os.path.exists(\"./Assets/Maps/4.0\"):\n",
    "    pass\n",
    "else:\n",
    "    os.makedirs(\"Assets/Maps/4.0\")"
   ]
  },
  {
   "cell_type": "code",
   "execution_count": 58,
   "id": "0304e77e",
   "metadata": {},
   "outputs": [],
   "source": [
    "amp_min = min(all_params_transformed[:, 0])\n",
    "amp_max = max(all_params_transformed[:, 0])\n",
    "\n",
    "res_min = min(all_params_transformed[:, 1])\n",
    "res_max = max(all_params_transformed[:, 1])\n",
    "\n",
    "qf_min = min(all_params_transformed[:, 2])\n",
    "qf_max = max(all_params_transformed[:, 2])\n",
    "\n",
    "ph_min = min(all_params_transformed[:, 3])\n",
    "ph_max = max(all_params_transformed[:, 3])"
   ]
  },
  {
   "cell_type": "code",
   "execution_count": 59,
   "id": "06685a50",
   "metadata": {},
   "outputs": [],
   "source": [
    "import datetime\n",
    "from mpl_toolkits.axes_grid1 import make_axes_locatable"
   ]
  },
  {
   "cell_type": "code",
   "execution_count": null,
   "id": "09eab9ce",
   "metadata": {},
   "outputs": [],
   "source": [
    "for img_index in range(0, all_pred_params_transformed[:,0].reshape(num_pix, voltage_steps).shape[1], 2):\n",
    "#   fig = plt.figure(figsize=(4., 4.))\n",
    "  fig, axs = plt.subplots(figsize=(12., 12.), nrows=2, ncols=2)\n",
    "  \n",
    "#   axs[0, 0].set_title('Amplitude')\n",
    "  axs[0, 0].axis('off')\n",
    "  grid = ImageGrid(fig, 111,  # similar to subplot(111)\n",
    "                nrows_ncols=(4, 6),\n",
    "                cbar_location=\"right\",\n",
    "                direction=\"row\",\n",
    "                cbar_mode='each',\n",
    "                cbar_size=\"10%\",\n",
    "                cbar_pad=0.15,\n",
    "                axes_pad=0.8,)  # pad between axes in inch.)\n",
    "              \n",
    "  im = grid[0].imshow(fit_results_list_transformed[:, 0].reshape(num_pix, voltage_steps)[:, img_index].reshape(num_pix_1d,num_pix_1d), vmin=amp_min, vmax=amp_max);\n",
    "  grid[0].axes.set_title(\"LSQF Noise\\nVoltage ON\");\n",
    "  grid[0].axis(\"off\");\n",
    "  plt.colorbar(im, cax=grid[0].cax, format='%.0e');\n",
    "  im = grid[6].imshow(fit_results_list_transformed[:, 0].reshape(num_pix, voltage_steps)[:, img_index+1].reshape(num_pix_1d,num_pix_1d), vmin=amp_min, vmax=amp_max);\n",
    "  grid[6].axes.set_title(\"LSQF Noise\\nVoltage Off\");\n",
    "  grid[6].axis(\"off\");\n",
    "  plt.colorbar(im, cax=grid[6].cax, format='%.0e');\n",
    "  im = grid[1].imshow(all_pred_params_transformed[:,0].reshape(num_pix,voltage_steps)[:, img_index].reshape(num_pix_1d,num_pix_1d), vmin=amp_min, vmax=amp_max);\n",
    "  grid[1].axes.set_title(\"NN Noise\\nVoltage ON\");\n",
    "  grid[1].axis(\"off\");\n",
    "  plt.colorbar(im, cax=grid[1].cax, format='%.0e');\n",
    "  im = grid[7].imshow(all_pred_params_transformed[:,0].reshape(num_pix,voltage_steps)[:, img_index+1].reshape(num_pix_1d,num_pix_1d), vmin=amp_min, vmax=amp_max);\n",
    "  grid[7].axes.set_title(\"NN Noise\\nVoltage Off\");\n",
    "  grid[7].axis(\"off\");\n",
    "  plt.colorbar(im, cax=grid[7].cax, format='%.0e');\n",
    "  im = grid[2].imshow(all_params_transformed[:,0].reshape(num_pix,voltage_steps)[:, img_index].reshape(num_pix_1d,num_pix_1d), vmin=amp_min, vmax=amp_max);\n",
    "  grid[2].axes.set_title(\"No Noise\\nVoltage ON\");\n",
    "  grid[2].axis(\"off\");\n",
    "  plt.colorbar(im, cax=grid[2].cax, format='%.0e');\n",
    "  im = grid[8].imshow(all_params_transformed[:,0].reshape(num_pix,voltage_steps)[:, img_index+1].reshape(num_pix_1d,num_pix_1d), vmin=amp_min, vmax=amp_max);\n",
    "  grid[8].axes.set_title(\"No Noise\\nVoltage Off\");\n",
    "  grid[8].axis(\"off\");\n",
    "  plt.colorbar(im, cax=grid[8].cax, format='%.0e');\n",
    "    \n",
    "#   axs[0, 1].set_title('Resonance')\n",
    "  axs[0, 1].axis('off')\n",
    "              \n",
    "  im = grid[3].imshow(fit_results_list_transformed[:, 1].reshape(num_pix, voltage_steps)[:, img_index].reshape(num_pix_1d,num_pix_1d), vmin=res_min, vmax=res_max);\n",
    "  grid[3].axes.set_title(\"LSQF Noise\\nVoltage ON\");\n",
    "  grid[3].axis(\"off\");\n",
    "  plt.colorbar(im, cax=grid[3].cax);\n",
    "  im = grid[9].imshow(fit_results_list_transformed[:, 1].reshape(num_pix, voltage_steps)[:, img_index+1].reshape(num_pix_1d,num_pix_1d), vmin=res_min, vmax=res_max);\n",
    "  grid[9].axes.set_title(\"LSQF Noise\\nVoltage Off\");\n",
    "  grid[9].axis(\"off\");\n",
    "  plt.colorbar(im, cax=grid[9].cax);\n",
    "  im = grid[4].imshow(all_pred_params_transformed[:,1].reshape(num_pix,voltage_steps)[:, img_index].reshape(num_pix_1d,num_pix_1d), vmin=res_min, vmax=res_max);\n",
    "  grid[4].axes.set_title(\"NN Noise\\nVoltage ON\");\n",
    "  grid[4].axis(\"off\");\n",
    "  plt.colorbar(im, cax=grid[4].cax);\n",
    "  im = grid[10].imshow(all_pred_params_transformed[:,1].reshape(num_pix,voltage_steps)[:, img_index+1].reshape(num_pix_1d,num_pix_1d), vmin=res_min, vmax=res_max);\n",
    "  grid[10].axes.set_title(\"NN Noise\\nVoltage Off\");\n",
    "  grid[10].axis(\"off\");\n",
    "  plt.colorbar(im, cax=grid[10].cax);\n",
    "  im = grid[5].imshow(all_params_transformed[:,1].reshape(num_pix,voltage_steps)[:, img_index].reshape(num_pix_1d,num_pix_1d), vmin=res_min, vmax=res_max);\n",
    "  grid[5].axes.set_title(\"No Noise\\nVoltage ON\");\n",
    "  grid[5].axis(\"off\");\n",
    "  plt.colorbar(im, cax=grid[5].cax);\n",
    "  im = grid[11].imshow(all_params_transformed[:,1].reshape(num_pix,voltage_steps)[:, img_index+1].reshape(num_pix_1d,num_pix_1d), vmin=res_min, vmax=res_max);\n",
    "  grid[11].axes.set_title(\"No Noise\\nVoltage Off\");\n",
    "  grid[11].axis(\"off\");\n",
    "  plt.colorbar(im, cax=grid[11].cax);\n",
    "    \n",
    "#   axs[1, 0].set_title('Q-Factor')\n",
    "  axs[1, 0].axis('off')\n",
    "              \n",
    "  im = grid[12].imshow(fit_results_list_transformed[:, 2].reshape(num_pix, voltage_steps)[:, img_index].reshape(num_pix_1d,num_pix_1d), vmin=qf_min, vmax=qf_max);\n",
    "  grid[12].axes.set_title(\"LSQF Noise\\nVoltage ON\");\n",
    "  grid[12].axis(\"off\");\n",
    "  plt.colorbar(im, cax=grid[12].cax);\n",
    "  im = grid[18].imshow(fit_results_list_transformed[:, 2].reshape(num_pix, voltage_steps)[:, img_index+1].reshape(num_pix_1d,num_pix_1d), vmin=qf_min, vmax=qf_max);\n",
    "  grid[18].axes.set_title(\"LSQF Noise\\nVoltage Off\");\n",
    "  grid[18].axis(\"off\");\n",
    "  plt.colorbar(im, cax=grid[18].cax);\n",
    "  im = grid[13].imshow(all_pred_params_transformed[:,2].reshape(num_pix,voltage_steps)[:, img_index].reshape(num_pix_1d,num_pix_1d), vmin=qf_min, vmax=qf_max);\n",
    "  grid[13].axes.set_title(\"NN Noise\\nVoltage ON\");\n",
    "  grid[13].axis(\"off\");\n",
    "  plt.colorbar(im, cax=grid[13].cax);\n",
    "  im = grid[19].imshow(all_pred_params_transformed[:,2].reshape(num_pix,voltage_steps)[:, img_index+1].reshape(num_pix_1d,num_pix_1d), vmin=qf_min, vmax=qf_max);\n",
    "  grid[19].axes.set_title(\"NN Noise\\nVoltage Off\");\n",
    "  grid[19].axis(\"off\");\n",
    "  plt.colorbar(im, cax=grid[19].cax);\n",
    "  im = grid[14].imshow(all_params_transformed[:,2].reshape(num_pix,voltage_steps)[:, img_index].reshape(num_pix_1d,num_pix_1d), vmin=qf_min, vmax=qf_max);\n",
    "  grid[14].axes.set_title(\"No Noise\\nVoltage ON\");\n",
    "  grid[14].axis(\"off\");\n",
    "  plt.colorbar(im, cax=grid[14].cax);\n",
    "  im = grid[20].imshow(all_params_transformed[:,2].reshape(num_pix,voltage_steps)[:, img_index+1].reshape(num_pix_1d,num_pix_1d), vmin=qf_min, vmax=qf_max);\n",
    "  grid[20].axes.set_title(\"No Noise\\nVoltage Off\");\n",
    "  grid[20].axis(\"off\");\n",
    "  plt.colorbar(im, cax=grid[20].cax);\n",
    "    \n",
    "#   axs[1, 1].set_title('Phase')\n",
    "  axs[1, 1].axis('off')\n",
    "              \n",
    "  im = grid[15].imshow(fit_results_list_transformed[:, 3].reshape(num_pix, voltage_steps)[:, img_index].reshape(num_pix_1d,num_pix_1d), vmin=ph_min, vmax=ph_max);\n",
    "  grid[15].axes.set_title(\"LSQF Noise\\nVoltage ON\");\n",
    "  grid[15].axis(\"off\");\n",
    "  plt.colorbar(im, cax=grid[15].cax);\n",
    "  im = grid[21].imshow(fit_results_list_transformed[:, 3].reshape(num_pix, voltage_steps)[:, img_index+1].reshape(num_pix_1d,num_pix_1d), vmin=ph_min, vmax=ph_max);\n",
    "  grid[21].axes.set_title(\"LSQF Noise\\nVoltage Off\");\n",
    "  grid[21].axis(\"off\");\n",
    "  plt.colorbar(im, cax=grid[21].cax);\n",
    "  im = grid[16].imshow(all_pred_params_transformed[:,3].reshape(num_pix,voltage_steps)[:, img_index].reshape(num_pix_1d,num_pix_1d), vmin=ph_min, vmax=ph_max);\n",
    "  grid[16].axes.set_title(\"NN Noise\\nVoltage ON\");\n",
    "  grid[16].axis(\"off\");\n",
    "  plt.colorbar(im, cax=grid[16].cax);\n",
    "  im = grid[22].imshow(all_pred_params_transformed[:,3].reshape(num_pix,voltage_steps)[:, img_index+1].reshape(num_pix_1d,num_pix_1d), vmin=ph_min, vmax=ph_max);\n",
    "  grid[22].axes.set_title(\"NN Noise\\nVoltage Off\");\n",
    "  grid[22].axis(\"off\");\n",
    "  plt.colorbar(im, cax=grid[22].cax);\n",
    "  im = grid[17].imshow(all_params_transformed[:,3].reshape(num_pix,voltage_steps)[:, img_index].reshape(num_pix_1d,num_pix_1d), vmin=ph_min, vmax=ph_max);\n",
    "  grid[17].axes.set_title(\"No Noise\\nVoltage ON\");\n",
    "  grid[17].axis(\"off\");\n",
    "  plt.colorbar(im, cax=grid[17].cax);\n",
    "  im = grid[23].imshow(all_params_transformed[:,3].reshape(num_pix,voltage_steps)[:, img_index+1].reshape(num_pix_1d,num_pix_1d), vmin=ph_min, vmax=ph_max);\n",
    "  grid[23].axes.set_title(\"No Noise\\nVoltage Off\");\n",
    "  grid[23].axis(\"off\");\n",
    "  plt.colorbar(im, cax=grid[23].cax);\n",
    "\n",
    "  plt.tight_layout();\n",
    "  plt.savefig('/scratch/alibek_2/Rapid-Fitting-of-BEPFM-and-Hysteresis-Loops-Using-Physics-Constrained-Unsupervised-Neural-Networks/Assets/Maps/4.0/' + str((int)(datetime.datetime.now().timestamp())) + '.png', dpi=300);\n",
    "  plt.close(fig)\n",
    "\n",
    "make_movie('4.0_movie', '/scratch/alibek_2/Rapid-Fitting-of-BEPFM-and-Hysteresis-Loops-Using-Physics-Constrained-Unsupervised-Neural-Networks/Assets/Maps/4.0/', '/scratch/alibek_2/Rapid-Fitting-of-BEPFM-and-Hysteresis-Loops-Using-Physics-Constrained-Unsupervised-Neural-Networks/Assets/Movies', file_format='png', fps=4)\n",
    "amplitude_clip = VideoFileClip('/scratch/alibek_2/Rapid-Fitting-of-BEPFM-and-Hysteresis-Loops-Using-Physics-Constrained-Unsupervised-Neural-Networks/Assets/Movies/4.0_movie.mp4')\n",
    "amplitude_clip = amplitude_clip.set_duration(10)\n",
    "\n",
    "amplitude_clip.ipython_display(width = 1080)"
   ]
  },
  {
   "cell_type": "code",
   "execution_count": null,
   "id": "53af7920",
   "metadata": {},
   "outputs": [],
   "source": []
  },
  {
   "cell_type": "code",
   "execution_count": null,
   "id": "38a04b7a",
   "metadata": {},
   "outputs": [],
   "source": []
  }
 ],
 "metadata": {
  "kernelspec": {
   "display_name": "Python 3 (ipykernel)",
   "language": "python",
   "name": "python3"
  },
  "language_info": {
   "codemirror_mode": {
    "name": "ipython",
    "version": 3
   },
   "file_extension": ".py",
   "mimetype": "text/x-python",
   "name": "python",
   "nbconvert_exporter": "python",
   "pygments_lexer": "ipython3",
   "version": "3.8.6"
  }
 },
 "nbformat": 4,
 "nbformat_minor": 5
}
