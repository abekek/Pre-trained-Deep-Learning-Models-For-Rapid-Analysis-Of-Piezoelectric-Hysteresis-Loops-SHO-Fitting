{
  "nbformat": 4,
  "nbformat_minor": 0,
  "metadata": {
    "colab": {
      "name": "Statistics Calculations.ipynb",
      "provenance": [],
      "authorship_tag": "ABX9TyNRDj/4LtM5yOmqAHQi97hC",
      "include_colab_link": true
    },
    "kernelspec": {
      "name": "python3",
      "display_name": "Python 3"
    },
    "language_info": {
      "name": "python"
    }
  },
  "cells": [
    {
      "cell_type": "markdown",
      "metadata": {
        "id": "view-in-github",
        "colab_type": "text"
      },
      "source": [
        "<a href=\"https://colab.research.google.com/github/abekek/Pre-trained-Deep-Learning-Models-For-Rapid-Analysis-Of-Piezoelectric-Hysteresis-Loops-SHO-Fitting/blob/main/notebooks/benchmarking/Statistics_Calculations.ipynb\" target=\"_parent\"><img src=\"https://colab.research.google.com/assets/colab-badge.svg\" alt=\"Open In Colab\"/></a>"
      ]
    },
    {
      "cell_type": "markdown",
      "source": [
        "# AdaHessian Stats Computation"
      ],
      "metadata": {
        "id": "_yp4ErOFwTay"
      }
    },
    {
      "cell_type": "code",
      "source": [
        "with open('AdaHessian Benchmarking.txt') as file_in:\n",
        "  bs_64 = {}\n",
        "  bs_128 = {}\n",
        "  bs_256 = {}\n",
        "  bs_512 = {}\n",
        "  bs_1024 = {}\n",
        "  batch_size = 0\n",
        "  for line in file_in:\n",
        "    if 'batch' in line:\n",
        "      batch_size = int(line.split(' ')[-1])\n",
        "    elif 'epochs' in line:\n",
        "      epochs = int(line.split(' ')[-1])\n",
        "      if batch_size == 64:\n",
        "        epochs_arr = bs_64.get('epochs', [])\n",
        "        epochs_arr.append(epochs)\n",
        "        bs_64['epochs'] = epochs_arr\n",
        "      elif batch_size == 128:\n",
        "        epochs_arr = bs_128.get('epochs', [])\n",
        "        epochs_arr.append(epochs)\n",
        "        bs_128['epochs'] = epochs_arr\n",
        "      elif batch_size == 256:\n",
        "        epochs_arr = bs_256.get('epochs', [])\n",
        "        epochs_arr.append(epochs)\n",
        "        bs_256['epochs'] = epochs_arr\n",
        "      elif batch_size == 512:\n",
        "        epochs_arr = bs_512.get('epochs', [])\n",
        "        epochs_arr.append(epochs)\n",
        "        bs_512['epochs'] = epochs_arr\n",
        "      elif batch_size == 1024:\n",
        "        epochs_arr = bs_1024.get('epochs', [])\n",
        "        epochs_arr.append(epochs)\n",
        "        bs_1024['epochs'] = epochs_arr\n",
        "    elif 'loops' in line:\n",
        "      loops_mse = float(line.split(' ')[-1])\n",
        "      if batch_size == 64:\n",
        "        loops_arr = bs_64.get('loops_mse', [])\n",
        "        loops_arr.append(loops_mse)\n",
        "        bs_64['loops_mse'] = loops_arr\n",
        "      elif batch_size == 128:\n",
        "        loops_arr = bs_128.get('loops_mse', [])\n",
        "        loops_arr.append(loops_mse)\n",
        "        bs_128['loops_mse'] = loops_arr\n",
        "      elif batch_size == 256:\n",
        "        loops_arr = bs_256.get('loops_mse', [])\n",
        "        loops_arr.append(loops_mse)\n",
        "        bs_256['loops_mse'] = loops_arr\n",
        "      elif batch_size == 512:\n",
        "        loops_arr = bs_512.get('loops_mse', [])\n",
        "        loops_arr.append(loops_mse)\n",
        "        bs_512['loops_mse'] = loops_arr\n",
        "      elif batch_size == 1024:\n",
        "        loops_arr = bs_1024.get('loops_mse', [])\n",
        "        loops_arr.append(loops_mse)\n",
        "        bs_1024['loops_mse'] = loops_arr\n",
        "    elif 'scaled' in line:\n",
        "      params_mse = float(line.split(' ')[-1])\n",
        "      if batch_size == 64:\n",
        "        params_arr = bs_64.get('params_mse', [])\n",
        "        params_arr.append(params_mse)\n",
        "        bs_64['params_mse'] = params_arr\n",
        "      elif batch_size == 128:\n",
        "        params_arr = bs_128.get('params_mse', [])\n",
        "        params_arr.append(params_mse)\n",
        "        bs_128['params_mse'] = params_arr\n",
        "      elif batch_size == 256:\n",
        "        params_arr = bs_256.get('params_mse', [])\n",
        "        params_arr.append(params_mse)\n",
        "        bs_256['params_mse'] = params_arr\n",
        "      elif batch_size == 512:\n",
        "        params_arr = bs_512.get('params_mse', [])\n",
        "        params_arr.append(params_mse)\n",
        "        bs_512['params_mse'] = params_arr\n",
        "      elif batch_size == 1024:\n",
        "        params_arr = bs_1024.get('params_mse', [])\n",
        "        params_arr.append(params_mse)\n",
        "        bs_1024['params_mse'] = params_arr"
      ],
      "metadata": {
        "id": "nyUghmIokedJ"
      },
      "execution_count": 69,
      "outputs": []
    },
    {
      "cell_type": "code",
      "source": [
        "bs_64_mins = sorted(range(len(bs_64['params_mse'])), key = lambda sub: bs_64['params_mse'][sub])[:5]\n",
        "bs_128_mins = sorted(range(len(bs_128['params_mse'])), key = lambda sub: bs_128['params_mse'][sub])[:5]\n",
        "bs_256_mins = sorted(range(len(bs_256['params_mse'])), key = lambda sub: bs_256['params_mse'][sub])[:5]\n",
        "bs_512_mins = sorted(range(len(bs_512['params_mse'])), key = lambda sub: bs_512['params_mse'][sub])[:5]\n",
        "bs_1024_mins = sorted(range(len(bs_1024['params_mse'])), key = lambda sub: bs_1024['params_mse'][sub])[:5]"
      ],
      "metadata": {
        "id": "h6so01-co37d"
      },
      "execution_count": 72,
      "outputs": []
    },
    {
      "cell_type": "code",
      "source": [
        "bs_128_mins"
      ],
      "metadata": {
        "colab": {
          "base_uri": "https://localhost:8080/"
        },
        "id": "oZsFna8M5tnp",
        "outputId": "552e4ed3-d505-4d32-df78-3d8494329cd8"
      },
      "execution_count": 92,
      "outputs": [
        {
          "output_type": "execute_result",
          "data": {
            "text/plain": [
              "[7, 8, 3, 9, 4]"
            ]
          },
          "metadata": {},
          "execution_count": 92
        }
      ]
    },
    {
      "cell_type": "code",
      "source": [
        "import statistics \n",
        "import numpy as np"
      ],
      "metadata": {
        "id": "moklqicvtFr_"
      },
      "execution_count": 73,
      "outputs": []
    },
    {
      "cell_type": "code",
      "source": [
        "epochs_64_stats = np.array([bs_64['epochs'][x] for x in bs_64_mins])\n",
        "epochs_128_stats = np.array([bs_128['epochs'][x] for x in bs_128_mins])\n",
        "epochs_256_stats = np.array([bs_256['epochs'][x] for x in bs_256_mins])\n",
        "epochs_512_stats = np.array([bs_512['epochs'][x] for x in bs_512_mins])\n",
        "epochs_1024_stats = np.array([bs_1024['epochs'][x] for x in bs_1024_mins])"
      ],
      "metadata": {
        "id": "Pn9kxM3drdFq"
      },
      "execution_count": 74,
      "outputs": []
    },
    {
      "cell_type": "code",
      "source": [
        "print(f\"Standard Deviation of epochs of 64: %.1f \"% (statistics.stdev(epochs_64_stats)))\n",
        "print(f\"Mean of of epochs of 64: %.1f \" % (statistics.mean(epochs_64_stats)))\n",
        "\n",
        "print(f\"Standard Deviation of epochs of 128: %.1f \"% (statistics.stdev(epochs_128_stats)))\n",
        "print(f\"Mean of of epochs of 128: %.1f \" % (statistics.mean(epochs_128_stats)))\n",
        "\n",
        "print(f\"Standard Deviation of epochs of 256: %.1f \"% (statistics.stdev(epochs_256_stats)))\n",
        "print(f\"Mean of of epochs of 256: %.1f \" % (statistics.mean(epochs_256_stats)))\n",
        "\n",
        "print(f\"Standard Deviation of epochs of 512: %.1f \"% (statistics.stdev(epochs_512_stats)))\n",
        "print(f\"Mean of of epochs of 512: %.1f \" % (statistics.mean(epochs_512_stats)))\n",
        "\n",
        "print(f\"Standard Deviation of epochs of 1024: %.1f \"% (statistics.stdev(epochs_1024_stats)))\n",
        "print(f\"Mean of of epochs of 1024: %.1f \" % (statistics.mean(epochs_1024_stats)))"
      ],
      "metadata": {
        "colab": {
          "base_uri": "https://localhost:8080/"
        },
        "id": "uQgYVi8Uti62",
        "outputId": "5a3742db-0261-49db-b60d-6eb9b654e8b2"
      },
      "execution_count": 75,
      "outputs": [
        {
          "output_type": "stream",
          "name": "stdout",
          "text": [
            "Standard Deviation of epochs of 64: 1.0 \n",
            "Mean of of epochs of 64: 292.0 \n",
            "Standard Deviation of epochs of 128: 0.0 \n",
            "Mean of of epochs of 128: 500.0 \n",
            "Standard Deviation of epochs of 256: 2.4 \n",
            "Mean of of epochs of 256: 647.0 \n",
            "Standard Deviation of epochs of 512: 7.4 \n",
            "Mean of of epochs of 512: 735.0 \n",
            "Standard Deviation of epochs of 1024: 0.0 \n",
            "Mean of of epochs of 1024: 387.0 \n"
          ]
        }
      ]
    },
    {
      "cell_type": "code",
      "source": [
        "loops_mse_64_stats = np.array([bs_64['loops_mse'][x] for x in bs_64_mins])\n",
        "loops_mse_128_stats = np.array([bs_128['loops_mse'][x] for x in bs_128_mins])\n",
        "loops_mse_256_stats = np.array([bs_256['loops_mse'][x] for x in bs_256_mins])\n",
        "loops_mse_512_stats = np.array([bs_512['loops_mse'][x] for x in bs_512_mins])\n",
        "loops_mse_1024_stats = np.array([bs_1024['loops_mse'][x] for x in bs_1024_mins])"
      ],
      "metadata": {
        "id": "PiDDnjBOsnda"
      },
      "execution_count": 76,
      "outputs": []
    },
    {
      "cell_type": "code",
      "source": [
        "print(f\"Standard Deviation of LOOPS MSE of 64: %.5f \"% (statistics.stdev(loops_mse_64_stats)))\n",
        "print(f\"Mean of of LOOPS MSE of 64: %.5f \" % (statistics.mean(loops_mse_64_stats)))\n",
        "\n",
        "print(f\"Standard Deviation of LOOPS MSE of 128: %.5f \"% (statistics.stdev(loops_mse_128_stats)))\n",
        "print(f\"Mean of of LOOPS MSE of 128: %.5f \" % (statistics.mean(loops_mse_128_stats)))\n",
        "\n",
        "print(f\"Standard Deviation of LOOPS MSE of 256: %.5f \"% (statistics.stdev(loops_mse_256_stats)))\n",
        "print(f\"Mean of of LOOPS MSE of 256: %.5f \" % (statistics.mean(loops_mse_256_stats)))\n",
        "\n",
        "print(f\"Standard Deviation of LOOPS MSE of 512: %.5f \"% (statistics.stdev(loops_mse_512_stats)))\n",
        "print(f\"Mean of of LOOPS MSE of 512: %.5f \" % (statistics.mean(loops_mse_512_stats)))\n",
        "\n",
        "print(f\"Standard Deviation of LOOPS MSE of 1024: %.5f \"% (statistics.stdev(loops_mse_1024_stats)))\n",
        "print(f\"Mean of of LOOPS MSE of 1024: %.5f \" % (statistics.mean(loops_mse_1024_stats)))"
      ],
      "metadata": {
        "colab": {
          "base_uri": "https://localhost:8080/"
        },
        "id": "N1sYLuH4uZNw",
        "outputId": "55c67164-86c4-4fcb-b8ae-f258a0f7abd1"
      },
      "execution_count": 77,
      "outputs": [
        {
          "output_type": "stream",
          "name": "stdout",
          "text": [
            "Standard Deviation of LOOPS MSE of 64: 0.00132 \n",
            "Mean of of LOOPS MSE of 64: 0.00975 \n",
            "Standard Deviation of LOOPS MSE of 128: 0.00027 \n",
            "Mean of of LOOPS MSE of 128: 0.00803 \n",
            "Standard Deviation of LOOPS MSE of 256: 0.00361 \n",
            "Mean of of LOOPS MSE of 256: 0.01155 \n",
            "Standard Deviation of LOOPS MSE of 512: 0.00537 \n",
            "Mean of of LOOPS MSE of 512: 0.01340 \n",
            "Standard Deviation of LOOPS MSE of 1024: 0.01630 \n",
            "Mean of of LOOPS MSE of 1024: 0.02671 \n"
          ]
        }
      ]
    },
    {
      "cell_type": "code",
      "source": [
        "params_mse_64_stats = np.array([bs_64['params_mse'][x] for x in bs_64_mins])\n",
        "params_mse_128_stats = np.array([bs_128['params_mse'][x] for x in bs_128_mins])\n",
        "params_mse_256_stats = np.array([bs_256['params_mse'][x] for x in bs_256_mins])\n",
        "params_mse_512_stats = np.array([bs_512['params_mse'][x] for x in bs_512_mins])\n",
        "params_mse_1024_stats = np.array([bs_1024['params_mse'][x] for x in bs_1024_mins])"
      ],
      "metadata": {
        "id": "eq-KJDlTsyfa"
      },
      "execution_count": 78,
      "outputs": []
    },
    {
      "cell_type": "code",
      "source": [
        "print(f\"Standard Deviation of PARAMS MSE of 64: %.5f \"% (statistics.stdev(params_mse_64_stats)))\n",
        "print(f\"Mean of of PARAMS MSE of 64: %.5f \" % (statistics.mean(params_mse_64_stats)))\n",
        "\n",
        "print(f\"Standard Deviation of PARAMS MSE of 128: %.5f \"% (statistics.stdev(params_mse_128_stats)))\n",
        "print(f\"Mean of of PARAMS MSE of 128: %.5f \" % (statistics.mean(params_mse_128_stats)))\n",
        "\n",
        "print(f\"Standard Deviation of PARAMS MSE of 256: %.5f \"% (statistics.stdev(params_mse_256_stats)))\n",
        "print(f\"Mean of of PARAMS MSE of 256: %.5f \" % (statistics.mean(params_mse_256_stats)))\n",
        "\n",
        "print(f\"Standard Deviation of PARAMS MSE of 512: %.5f \"% (statistics.stdev(params_mse_512_stats)))\n",
        "print(f\"Mean of of PARAMS MSE of 512: %.5f \" % (statistics.mean(params_mse_512_stats)))\n",
        "\n",
        "print(f\"Standard Deviation of PARAMS MSE of 1024: %.5f \"% (statistics.stdev(params_mse_1024_stats)))\n",
        "print(f\"Mean of of PARAMS MSE of 1024: %.5f \" % (statistics.mean(params_mse_1024_stats)))"
      ],
      "metadata": {
        "colab": {
          "base_uri": "https://localhost:8080/"
        },
        "id": "AdlbhKLRut-K",
        "outputId": "05fd72be-d8f8-48c0-c75a-da66e73dd89a"
      },
      "execution_count": 81,
      "outputs": [
        {
          "output_type": "stream",
          "name": "stdout",
          "text": [
            "Standard Deviation of PARAMS MSE of 64: 0.88428 \n",
            "Mean of of PARAMS MSE of 64: 2.55927 \n",
            "Standard Deviation of PARAMS MSE of 128: 0.63473 \n",
            "Mean of of PARAMS MSE of 128: 2.28119 \n",
            "Standard Deviation of PARAMS MSE of 256: 0.70472 \n",
            "Mean of of PARAMS MSE of 256: 3.61001 \n",
            "Standard Deviation of PARAMS MSE of 512: 1.38619 \n",
            "Mean of of PARAMS MSE of 512: 3.01150 \n",
            "Standard Deviation of PARAMS MSE of 1024: 1.54232 \n",
            "Mean of of PARAMS MSE of 1024: 4.03416 \n"
          ]
        }
      ]
    },
    {
      "cell_type": "markdown",
      "source": [
        "# ADAM Stats Computation"
      ],
      "metadata": {
        "id": "54Ki8Em5yZRp"
      }
    },
    {
      "cell_type": "code",
      "source": [
        "with open('ADAM Benchmarking.txt') as file_in:\n",
        "  bs_64 = {}\n",
        "  bs_128 = {}\n",
        "  bs_256 = {}\n",
        "  bs_512 = {}\n",
        "  bs_1024 = {}\n",
        "  batch_size = 0\n",
        "  for line in file_in:\n",
        "    if 'batch' in line:\n",
        "      batch_size = int(line.split(' ')[-1])\n",
        "    elif 'epochs' in line:\n",
        "      epochs = int(line.split(' ')[-1])\n",
        "      if batch_size == 64:\n",
        "        epochs_arr = bs_64.get('epochs', [])\n",
        "        epochs_arr.append(epochs)\n",
        "        bs_64['epochs'] = epochs_arr\n",
        "      elif batch_size == 128:\n",
        "        epochs_arr = bs_128.get('epochs', [])\n",
        "        epochs_arr.append(epochs)\n",
        "        bs_128['epochs'] = epochs_arr\n",
        "      elif batch_size == 256:\n",
        "        epochs_arr = bs_256.get('epochs', [])\n",
        "        epochs_arr.append(epochs)\n",
        "        bs_256['epochs'] = epochs_arr\n",
        "      elif batch_size == 512:\n",
        "        epochs_arr = bs_512.get('epochs', [])\n",
        "        epochs_arr.append(epochs)\n",
        "        bs_512['epochs'] = epochs_arr\n",
        "      elif batch_size == 1024:\n",
        "        epochs_arr = bs_1024.get('epochs', [])\n",
        "        epochs_arr.append(epochs)\n",
        "        bs_1024['epochs'] = epochs_arr\n",
        "    elif 'loops' in line:\n",
        "      loops_mse = float(line.split(' ')[-1])\n",
        "      if batch_size == 64:\n",
        "        loops_arr = bs_64.get('loops_mse', [])\n",
        "        loops_arr.append(loops_mse)\n",
        "        bs_64['loops_mse'] = loops_arr\n",
        "      elif batch_size == 128:\n",
        "        loops_arr = bs_128.get('loops_mse', [])\n",
        "        loops_arr.append(loops_mse)\n",
        "        bs_128['loops_mse'] = loops_arr\n",
        "      elif batch_size == 256:\n",
        "        loops_arr = bs_256.get('loops_mse', [])\n",
        "        loops_arr.append(loops_mse)\n",
        "        bs_256['loops_mse'] = loops_arr\n",
        "      elif batch_size == 512:\n",
        "        loops_arr = bs_512.get('loops_mse', [])\n",
        "        loops_arr.append(loops_mse)\n",
        "        bs_512['loops_mse'] = loops_arr\n",
        "      elif batch_size == 1024:\n",
        "        loops_arr = bs_1024.get('loops_mse', [])\n",
        "        loops_arr.append(loops_mse)\n",
        "        bs_1024['loops_mse'] = loops_arr\n",
        "    elif 'scaled' in line:\n",
        "      params_mse = float(line.split(' ')[-1])\n",
        "      if batch_size == 64:\n",
        "        params_arr = bs_64.get('params_mse', [])\n",
        "        params_arr.append(params_mse)\n",
        "        bs_64['params_mse'] = params_arr\n",
        "      elif batch_size == 128:\n",
        "        params_arr = bs_128.get('params_mse', [])\n",
        "        params_arr.append(params_mse)\n",
        "        bs_128['params_mse'] = params_arr\n",
        "      elif batch_size == 256:\n",
        "        params_arr = bs_256.get('params_mse', [])\n",
        "        params_arr.append(params_mse)\n",
        "        bs_256['params_mse'] = params_arr\n",
        "      elif batch_size == 512:\n",
        "        params_arr = bs_512.get('params_mse', [])\n",
        "        params_arr.append(params_mse)\n",
        "        bs_512['params_mse'] = params_arr\n",
        "      elif batch_size == 1024:\n",
        "        params_arr = bs_1024.get('params_mse', [])\n",
        "        params_arr.append(params_mse)\n",
        "        bs_1024['params_mse'] = params_arr"
      ],
      "metadata": {
        "id": "DTjk73rbyZRp"
      },
      "execution_count": 82,
      "outputs": []
    },
    {
      "cell_type": "code",
      "source": [
        "bs_64_mins = sorted(range(len(bs_64['params_mse'])), key = lambda sub: bs_64['params_mse'][sub])[:5]\n",
        "bs_128_mins = sorted(range(len(bs_128['params_mse'])), key = lambda sub: bs_128['params_mse'][sub])[:5]\n",
        "bs_256_mins = sorted(range(len(bs_256['params_mse'])), key = lambda sub: bs_256['params_mse'][sub])[:5]\n",
        "bs_512_mins = sorted(range(len(bs_512['params_mse'])), key = lambda sub: bs_512['params_mse'][sub])[:5]\n",
        "bs_1024_mins = sorted(range(len(bs_1024['params_mse'])), key = lambda sub: bs_1024['params_mse'][sub])[:5]"
      ],
      "metadata": {
        "id": "Sav5mRu2yZRq"
      },
      "execution_count": 84,
      "outputs": []
    },
    {
      "cell_type": "code",
      "source": [
        "import statistics \n",
        "import numpy as np"
      ],
      "metadata": {
        "id": "K4PWBMDYyZRr"
      },
      "execution_count": 85,
      "outputs": []
    },
    {
      "cell_type": "code",
      "source": [
        "epochs_64_stats = np.array([bs_64['epochs'][x] for x in bs_64_mins])\n",
        "epochs_128_stats = np.array([bs_128['epochs'][x] for x in bs_128_mins])\n",
        "epochs_256_stats = np.array([bs_256['epochs'][x] for x in bs_256_mins])\n",
        "epochs_512_stats = np.array([bs_512['epochs'][x] for x in bs_512_mins])\n",
        "epochs_1024_stats = np.array([bs_1024['epochs'][x] for x in bs_1024_mins])"
      ],
      "metadata": {
        "id": "SuSmER0SyZRr"
      },
      "execution_count": 86,
      "outputs": []
    },
    {
      "cell_type": "code",
      "source": [
        "print(f\"Standard Deviation of epochs of 64: %.1f \"% (statistics.stdev(epochs_64_stats)))\n",
        "print(f\"Mean of of epochs of 64: %.1f \" % (statistics.mean(epochs_64_stats)))\n",
        "\n",
        "print(f\"Standard Deviation of epochs of 128: %.1f \"% (statistics.stdev(epochs_128_stats)))\n",
        "print(f\"Mean of of epochs of 128: %.1f \" % (statistics.mean(epochs_128_stats)))\n",
        "\n",
        "print(f\"Standard Deviation of epochs of 256: %.1f \"% (statistics.stdev(epochs_256_stats)))\n",
        "print(f\"Mean of of epochs of 256: %.1f \" % (statistics.mean(epochs_256_stats)))\n",
        "\n",
        "print(f\"Standard Deviation of epochs of 512: %.1f \"% (statistics.stdev(epochs_512_stats)))\n",
        "print(f\"Mean of of epochs of 512: %.1f \" % (statistics.mean(epochs_512_stats)))\n",
        "\n",
        "print(f\"Standard Deviation of epochs of 1024: %.1f \"% (statistics.stdev(epochs_1024_stats)))\n",
        "print(f\"Mean of of epochs of 1024: %.1f \" % (statistics.mean(epochs_1024_stats)))"
      ],
      "metadata": {
        "colab": {
          "base_uri": "https://localhost:8080/"
        },
        "outputId": "3004e186-1e9a-46a6-bb05-1c6dd0269382",
        "id": "scPAh04SyZRr"
      },
      "execution_count": 87,
      "outputs": [
        {
          "output_type": "stream",
          "name": "stdout",
          "text": [
            "Standard Deviation of epochs of 64: 125.6 \n",
            "Mean of of epochs of 64: 560.0 \n",
            "Standard Deviation of epochs of 128: 233.7 \n",
            "Mean of of epochs of 128: 937.0 \n",
            "Standard Deviation of epochs of 256: 402.3 \n",
            "Mean of of epochs of 256: 1568.0 \n",
            "Standard Deviation of epochs of 512: 684.7 \n",
            "Mean of of epochs of 512: 2537.0 \n",
            "Standard Deviation of epochs of 1024: 937.2 \n",
            "Mean of of epochs of 1024: 3214.0 \n"
          ]
        }
      ]
    },
    {
      "cell_type": "code",
      "source": [
        "loops_mse_64_stats = np.array([bs_64['loops_mse'][x] for x in bs_64_mins])\n",
        "loops_mse_128_stats = np.array([bs_128['loops_mse'][x] for x in bs_128_mins])\n",
        "loops_mse_256_stats = np.array([bs_256['loops_mse'][x] for x in bs_256_mins])\n",
        "loops_mse_512_stats = np.array([bs_512['loops_mse'][x] for x in bs_512_mins])\n",
        "loops_mse_1024_stats = np.array([bs_1024['loops_mse'][x] for x in bs_1024_mins])"
      ],
      "metadata": {
        "id": "GpD5OZr5yZRs"
      },
      "execution_count": 88,
      "outputs": []
    },
    {
      "cell_type": "code",
      "source": [
        "print(f\"Standard Deviation of LOOPS MSE of 64: %.5f \"% (statistics.stdev(loops_mse_64_stats)))\n",
        "print(f\"Mean of of LOOPS MSE of 64: %.5f \" % (statistics.mean(loops_mse_64_stats)))\n",
        "\n",
        "print(f\"Standard Deviation of LOOPS MSE of 128: %.5f \"% (statistics.stdev(loops_mse_128_stats)))\n",
        "print(f\"Mean of of LOOPS MSE of 128: %.5f \" % (statistics.mean(loops_mse_128_stats)))\n",
        "\n",
        "print(f\"Standard Deviation of LOOPS MSE of 256: %.5f \"% (statistics.stdev(loops_mse_256_stats)))\n",
        "print(f\"Mean of of LOOPS MSE of 256: %.5f \" % (statistics.mean(loops_mse_256_stats)))\n",
        "\n",
        "print(f\"Standard Deviation of LOOPS MSE of 512: %.5f \"% (statistics.stdev(loops_mse_512_stats)))\n",
        "print(f\"Mean of of LOOPS MSE of 512: %.5f \" % (statistics.mean(loops_mse_512_stats)))\n",
        "\n",
        "print(f\"Standard Deviation of LOOPS MSE of 1024: %.5f \"% (statistics.stdev(loops_mse_1024_stats)))\n",
        "print(f\"Mean of of LOOPS MSE of 1024: %.5f \" % (statistics.mean(loops_mse_1024_stats)))"
      ],
      "metadata": {
        "colab": {
          "base_uri": "https://localhost:8080/"
        },
        "outputId": "bba889a6-e6aa-45f4-8425-5fdf606370ff",
        "id": "I3TnvTysyZRt"
      },
      "execution_count": 89,
      "outputs": [
        {
          "output_type": "stream",
          "name": "stdout",
          "text": [
            "Standard Deviation of LOOPS MSE of 64: 0.00042 \n",
            "Mean of of LOOPS MSE of 64: 0.00774 \n",
            "Standard Deviation of LOOPS MSE of 128: 0.00106 \n",
            "Mean of of LOOPS MSE of 128: 0.00835 \n",
            "Standard Deviation of LOOPS MSE of 256: 0.00121 \n",
            "Mean of of LOOPS MSE of 256: 0.00830 \n",
            "Standard Deviation of LOOPS MSE of 512: 0.00333 \n",
            "Mean of of LOOPS MSE of 512: 0.01134 \n",
            "Standard Deviation of LOOPS MSE of 1024: 0.00166 \n",
            "Mean of of LOOPS MSE of 1024: 0.01012 \n"
          ]
        }
      ]
    },
    {
      "cell_type": "code",
      "source": [
        "params_mse_64_stats = np.array([bs_64['params_mse'][x] for x in bs_64_mins])\n",
        "params_mse_128_stats = np.array([bs_128['params_mse'][x] for x in bs_128_mins])\n",
        "params_mse_256_stats = np.array([bs_256['params_mse'][x] for x in bs_256_mins])\n",
        "params_mse_512_stats = np.array([bs_512['params_mse'][x] for x in bs_512_mins])\n",
        "params_mse_1024_stats = np.array([bs_1024['params_mse'][x] for x in bs_1024_mins])"
      ],
      "metadata": {
        "id": "lFN4cNScyZRt"
      },
      "execution_count": 90,
      "outputs": []
    },
    {
      "cell_type": "code",
      "source": [
        "print(f\"Standard Deviation of PARAMS MSE of 64: %.5f \"% (statistics.stdev(params_mse_64_stats)))\n",
        "print(f\"Mean of of PARAMS MSE of 64: %.5f \" % (statistics.mean(params_mse_64_stats)))\n",
        "\n",
        "print(f\"Standard Deviation of PARAMS MSE of 128: %.5f \"% (statistics.stdev(params_mse_128_stats)))\n",
        "print(f\"Mean of of PARAMS MSE of 128: %.5f \" % (statistics.mean(params_mse_128_stats)))\n",
        "\n",
        "print(f\"Standard Deviation of PARAMS MSE of 256: %.5f \"% (statistics.stdev(params_mse_256_stats)))\n",
        "print(f\"Mean of of PARAMS MSE of 256: %.5f \" % (statistics.mean(params_mse_256_stats)))\n",
        "\n",
        "print(f\"Standard Deviation of PARAMS MSE of 512: %.5f \"% (statistics.stdev(params_mse_512_stats)))\n",
        "print(f\"Mean of of PARAMS MSE of 512: %.5f \" % (statistics.mean(params_mse_512_stats)))\n",
        "\n",
        "print(f\"Standard Deviation of PARAMS MSE of 1024: %.5f \"% (statistics.stdev(params_mse_1024_stats)))\n",
        "print(f\"Mean of of PARAMS MSE of 1024: %.5f \" % (statistics.mean(params_mse_1024_stats)))"
      ],
      "metadata": {
        "colab": {
          "base_uri": "https://localhost:8080/"
        },
        "outputId": "78cccba7-538e-40f7-f2c1-f5e700148f49",
        "id": "XiLfEx8IyZRu"
      },
      "execution_count": 91,
      "outputs": [
        {
          "output_type": "stream",
          "name": "stdout",
          "text": [
            "Standard Deviation of PARAMS MSE of 64: 1.02710 \n",
            "Mean of of PARAMS MSE of 64: 2.41973 \n",
            "Standard Deviation of PARAMS MSE of 128: 0.32084 \n",
            "Mean of of PARAMS MSE of 128: 2.65518 \n",
            "Standard Deviation of PARAMS MSE of 256: 0.71523 \n",
            "Mean of of PARAMS MSE of 256: 3.13807 \n",
            "Standard Deviation of PARAMS MSE of 512: 1.05801 \n",
            "Mean of of PARAMS MSE of 512: 2.95574 \n",
            "Standard Deviation of PARAMS MSE of 1024: 0.50383 \n",
            "Mean of of PARAMS MSE of 1024: 3.24794 \n"
          ]
        }
      ]
    }
  ]
}